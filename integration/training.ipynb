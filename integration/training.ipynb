{
 "cells": [
  {
   "cell_type": "code",
   "execution_count": 1,
   "metadata": {},
   "outputs": [],
   "source": [
    "import os\n",
    "import pandas as pd\n",
    "import csv\n",
    "import pickle as pkl\n",
    "import numpy as np\n",
    "import torch\n",
    "from torch.utils.data import Dataset, DataLoader, TensorDataset\n",
    "from torch import nn\n",
    "from sklearn.model_selection import train_test_split\n",
    "import matplotlib.pyplot as plt\n",
    "import datetime\n",
    "from nltk import pos_tag\n",
    "from tqdm import tqdm"
   ]
  },
  {
   "cell_type": "code",
   "execution_count": 2,
   "metadata": {},
   "outputs": [],
   "source": [
    "X = pkl.load(open('X.pkl', 'rb'))\n",
    "Y = pkl.load(open('Y.pkl', 'rb'))"
   ]
  },
  {
   "cell_type": "code",
   "execution_count": null,
   "metadata": {},
   "outputs": [],
   "source": []
  },
  {
   "cell_type": "code",
   "execution_count": 3,
   "metadata": {},
   "outputs": [],
   "source": [
    "X = torch.stack(X)\n",
    "Y = torch.stack(Y)"
   ]
  },
  {
   "cell_type": "code",
   "execution_count": 4,
   "metadata": {},
   "outputs": [],
   "source": [
    "Y = Y.squeeze(1)"
   ]
  },
  {
   "cell_type": "code",
   "execution_count": 5,
   "metadata": {},
   "outputs": [
    {
     "data": {
      "text/plain": [
       "tensor([[0.4422, 0.9092, 0.6278, 0.4447],\n",
       "        [0.5041, 0.8032, 0.6004, 0.4472],\n",
       "        [0.4101, 0.5456, 0.6285, 0.4397],\n",
       "        ...,\n",
       "        [0.1672, 0.6782, 0.6281, 0.4400],\n",
       "        [0.5201, 0.7891, 0.6114, 0.4399],\n",
       "        [0.5360, 0.7791, 0.6347, 0.4428]], dtype=torch.float64)"
      ]
     },
     "execution_count": 5,
     "metadata": {},
     "output_type": "execute_result"
    }
   ],
   "source": [
    "X"
   ]
  },
  {
   "cell_type": "code",
   "execution_count": 6,
   "metadata": {},
   "outputs": [],
   "source": [
    "Y = Y/100"
   ]
  },
  {
   "cell_type": "code",
   "execution_count": 7,
   "metadata": {},
   "outputs": [
    {
     "data": {
      "text/plain": [
       "tensor([[0.2800, 0.2800, 0.7840],\n",
       "        [0.1300, 0.1400, 0.1820],\n",
       "        [0.1700, 0.3200, 0.5440],\n",
       "        ...,\n",
       "        [0.1200, 0.1800, 0.2160],\n",
       "        [0.2100, 0.2200, 0.4620],\n",
       "        [0.0900, 0.1700, 0.1530]], dtype=torch.float64)"
      ]
     },
     "execution_count": 7,
     "metadata": {},
     "output_type": "execute_result"
    }
   ],
   "source": [
    "Y"
   ]
  },
  {
   "cell_type": "code",
   "execution_count": 8,
   "metadata": {},
   "outputs": [],
   "source": [
    "X_train, X_test, y_train, y_test = train_test_split(X, Y, test_size=0.2, random_state=42)"
   ]
  },
  {
   "cell_type": "code",
   "execution_count": 9,
   "metadata": {},
   "outputs": [],
   "source": [
    "train_dataset = TensorDataset(X_train, y_train)\n",
    "test_dataset = TensorDataset(X_test, y_test)\n",
    "train_loader = DataLoader(train_dataset, batch_size=16, shuffle=True)\n",
    "test_loader = DataLoader(test_dataset, batch_size=16, shuffle=True)"
   ]
  },
  {
   "cell_type": "code",
   "execution_count": 10,
   "metadata": {},
   "outputs": [
    {
     "name": "stdout",
     "output_type": "stream",
     "text": [
      "cpu\n"
     ]
    }
   ],
   "source": [
    "device = (\n",
    "    \"cuda\"\n",
    "    if torch.cuda.is_available()\n",
    "    else \"cpu\"\n",
    ")\n",
    "print(device)"
   ]
  },
  {
   "cell_type": "code",
   "execution_count": 80,
   "metadata": {},
   "outputs": [],
   "source": [
    "class FinalModel(nn.Module):\n",
    "    def __init__(self, ) -> None:\n",
    "        super().__init__()\n",
    "        self.input = nn.Linear(4, 10)\n",
    "        self.linear_stack = nn.Sequential(\n",
    "            nn.Dropout(0.3),\n",
    "            nn.ReLU(),\n",
    "            nn.Linear(10, 20),\n",
    "            nn.Dropout(0.5),\n",
    "            nn.ReLU(),\n",
    "            nn.Linear(20, 10),\n",
    "            nn.ReLU(),\n",
    "        )\n",
    "        self.output = nn.Linear(10, 3)\n",
    "    def forward(self, x):\n",
    "        x = self.input(x)\n",
    "        x = self.linear_stack(x)\n",
    "        x = self.output(x)\n",
    "        return x\n",
    "    \n"
   ]
  },
  {
   "cell_type": "code",
   "execution_count": null,
   "metadata": {},
   "outputs": [],
   "source": []
  },
  {
   "cell_type": "code",
   "execution_count": 81,
   "metadata": {},
   "outputs": [
    {
     "name": "stdout",
     "output_type": "stream",
     "text": [
      "Epoch 0, Training Loss: 0.14264695346355438, Test Loss: 0.11890403181314468\n",
      "Epoch 1, Training Loss: 0.12632225453853607, Test Loss: 0.14407746493816376\n",
      "Epoch 2, Training Loss: 0.12131893634796143, Test Loss: 0.10732193291187286\n",
      "Epoch 3, Training Loss: 0.12348658591508865, Test Loss: 0.18754318356513977\n",
      "Epoch 4, Training Loss: 0.14629274606704712, Test Loss: 0.16937695443630219\n",
      "Epoch 5, Training Loss: 0.14979784190654755, Test Loss: 0.15782517194747925\n",
      "Epoch 6, Training Loss: 0.16311714053153992, Test Loss: 0.1744995415210724\n",
      "Epoch 7, Training Loss: 0.16608616709709167, Test Loss: 0.11452621966600418\n",
      "Epoch 8, Training Loss: 0.12290775775909424, Test Loss: 0.09859569370746613\n",
      "Epoch 9, Training Loss: 0.10940860956907272, Test Loss: 0.21370044350624084\n",
      "Epoch 10, Training Loss: 0.09512486308813095, Test Loss: 0.1315811723470688\n",
      "Epoch 11, Training Loss: 0.10175741463899612, Test Loss: 0.11964305490255356\n",
      "Epoch 12, Training Loss: 0.16498832404613495, Test Loss: 0.1700044870376587\n",
      "Epoch 13, Training Loss: 0.1508132964372635, Test Loss: 0.1183239221572876\n",
      "Epoch 14, Training Loss: 0.10688259452581406, Test Loss: 0.10713596642017365\n",
      "Epoch 15, Training Loss: 0.1465964913368225, Test Loss: 0.17622876167297363\n",
      "Epoch 16, Training Loss: 0.1334185153245926, Test Loss: 0.09477545320987701\n",
      "Epoch 17, Training Loss: 0.08099416643381119, Test Loss: 0.10837558656930923\n",
      "Epoch 18, Training Loss: 0.08528316020965576, Test Loss: 0.16039960086345673\n",
      "Epoch 19, Training Loss: 0.10438898205757141, Test Loss: 0.10328444093465805\n",
      "Epoch 20, Training Loss: 0.09791968017816544, Test Loss: 0.12265317887067795\n",
      "Epoch 21, Training Loss: 0.15433983504772186, Test Loss: 0.18417637050151825\n",
      "Epoch 22, Training Loss: 0.12015136331319809, Test Loss: 0.09655924886465073\n",
      "Epoch 23, Training Loss: 0.08798662573099136, Test Loss: 0.11882568150758743\n",
      "Epoch 24, Training Loss: 0.10226830840110779, Test Loss: 0.08377345651388168\n",
      "Epoch 25, Training Loss: 0.11047228425741196, Test Loss: 0.07509991526603699\n",
      "Epoch 26, Training Loss: 0.060029011219739914, Test Loss: 0.07289652526378632\n",
      "Epoch 27, Training Loss: 0.14770658314228058, Test Loss: 0.09307849407196045\n",
      "Epoch 28, Training Loss: 0.07385019212961197, Test Loss: 0.09672761708498001\n",
      "Epoch 29, Training Loss: 0.12646862864494324, Test Loss: 0.09669402241706848\n",
      "Epoch 30, Training Loss: 0.09128018468618393, Test Loss: 0.07804091274738312\n",
      "Epoch 31, Training Loss: 0.10206214338541031, Test Loss: 0.08014346659183502\n",
      "Epoch 32, Training Loss: 0.1060648262500763, Test Loss: 0.11897705495357513\n",
      "Epoch 33, Training Loss: 0.16217269003391266, Test Loss: 0.13379733264446259\n",
      "Epoch 34, Training Loss: 0.06542500108480453, Test Loss: 0.08337762951850891\n",
      "Epoch 35, Training Loss: 0.06535626202821732, Test Loss: 0.0946001261472702\n",
      "Epoch 36, Training Loss: 0.13204209506511688, Test Loss: 0.161396786570549\n",
      "Epoch 37, Training Loss: 0.09530020505189896, Test Loss: 0.10498912632465363\n",
      "Epoch 38, Training Loss: 0.06630225479602814, Test Loss: 0.08009956777095795\n",
      "Epoch 39, Training Loss: 0.0713452696800232, Test Loss: 0.06991170346736908\n",
      "Epoch 40, Training Loss: 0.0913802906870842, Test Loss: 0.1015843078494072\n",
      "Epoch 41, Training Loss: 0.0846538320183754, Test Loss: 0.06833301484584808\n",
      "Epoch 42, Training Loss: 0.07677211612462997, Test Loss: 0.06826002895832062\n",
      "Epoch 43, Training Loss: 0.061723437160253525, Test Loss: 0.13663847744464874\n",
      "Epoch 44, Training Loss: 0.05764182284474373, Test Loss: 0.06981037557125092\n",
      "Epoch 45, Training Loss: 0.05946163460612297, Test Loss: 0.07737027853727341\n",
      "Epoch 46, Training Loss: 0.06653886288404465, Test Loss: 0.10612514615058899\n",
      "Epoch 47, Training Loss: 0.053738463670015335, Test Loss: 0.0871003195643425\n",
      "Epoch 48, Training Loss: 0.08329001069068909, Test Loss: 0.07702723145484924\n",
      "Epoch 49, Training Loss: 0.0713469609618187, Test Loss: 0.09267376363277435\n",
      "Epoch 50, Training Loss: 0.05583435669541359, Test Loss: 0.08795618265867233\n",
      "Epoch 51, Training Loss: 0.05361384153366089, Test Loss: 0.07044827193021774\n",
      "Epoch 52, Training Loss: 0.06234738230705261, Test Loss: 0.07465162873268127\n",
      "Epoch 53, Training Loss: 0.09980233758687973, Test Loss: 0.08907528221607208\n",
      "Epoch 54, Training Loss: 0.06152994930744171, Test Loss: 0.03806652873754501\n",
      "Epoch 55, Training Loss: 0.09653717279434204, Test Loss: 0.050404828041791916\n",
      "Epoch 56, Training Loss: 0.054493874311447144, Test Loss: 0.07596337795257568\n",
      "Epoch 57, Training Loss: 0.06534658372402191, Test Loss: 0.049842219799757004\n",
      "Epoch 58, Training Loss: 0.04238962009549141, Test Loss: 0.0951828584074974\n",
      "Epoch 59, Training Loss: 0.09480611234903336, Test Loss: 0.05466201528906822\n",
      "Epoch 60, Training Loss: 0.04074879363179207, Test Loss: 0.09241584688425064\n",
      "Epoch 61, Training Loss: 0.030209660530090332, Test Loss: 0.031598176807165146\n",
      "Epoch 62, Training Loss: 0.04701089486479759, Test Loss: 0.07838444411754608\n",
      "Epoch 63, Training Loss: 0.06967412680387497, Test Loss: 0.06253796070814133\n",
      "Epoch 64, Training Loss: 0.058127474039793015, Test Loss: 0.05394919216632843\n",
      "Epoch 65, Training Loss: 0.059343934059143066, Test Loss: 0.06639846414327621\n",
      "Epoch 66, Training Loss: 0.07585427910089493, Test Loss: 0.0960620865225792\n",
      "Epoch 67, Training Loss: 0.03313140943646431, Test Loss: 0.06671669334173203\n",
      "Epoch 68, Training Loss: 0.08429757505655289, Test Loss: 0.0387796089053154\n",
      "Epoch 69, Training Loss: 0.043842658400535583, Test Loss: 0.0471777468919754\n",
      "Epoch 70, Training Loss: 0.03367076441645622, Test Loss: 0.03599615767598152\n",
      "Epoch 71, Training Loss: 0.04955543577671051, Test Loss: 0.06904147565364838\n",
      "Epoch 72, Training Loss: 0.027268392965197563, Test Loss: 0.05563609302043915\n",
      "Epoch 73, Training Loss: 0.03510930761694908, Test Loss: 0.04438699036836624\n",
      "Epoch 74, Training Loss: 0.060218989849090576, Test Loss: 0.09679955989122391\n",
      "Epoch 75, Training Loss: 0.04731200262904167, Test Loss: 0.05417755991220474\n",
      "Epoch 76, Training Loss: 0.03290815278887749, Test Loss: 0.0763021856546402\n",
      "Epoch 77, Training Loss: 0.04957810044288635, Test Loss: 0.05021561682224274\n",
      "Epoch 78, Training Loss: 0.05480228736996651, Test Loss: 0.06662947684526443\n",
      "Epoch 79, Training Loss: 0.030195174738764763, Test Loss: 0.0579155832529068\n",
      "Epoch 80, Training Loss: 0.02467832900583744, Test Loss: 0.05122184380888939\n",
      "Epoch 81, Training Loss: 0.046978626400232315, Test Loss: 0.0280670914798975\n",
      "Epoch 82, Training Loss: 0.02587147243320942, Test Loss: 0.05217932537198067\n",
      "Epoch 83, Training Loss: 0.03631618991494179, Test Loss: 0.03896937146782875\n",
      "Epoch 84, Training Loss: 0.04032660648226738, Test Loss: 0.024362606927752495\n",
      "Epoch 85, Training Loss: 0.0252129677683115, Test Loss: 0.03633856773376465\n",
      "Epoch 86, Training Loss: 0.026101192459464073, Test Loss: 0.02741125226020813\n",
      "Epoch 87, Training Loss: 0.016013137996196747, Test Loss: 0.029788212850689888\n",
      "Epoch 88, Training Loss: 0.036841314285993576, Test Loss: 0.042646415531635284\n",
      "Epoch 89, Training Loss: 0.01418414805084467, Test Loss: 0.07092346251010895\n",
      "Epoch 90, Training Loss: 0.05554946884512901, Test Loss: 0.019739385694265366\n",
      "Epoch 91, Training Loss: 0.019355379045009613, Test Loss: 0.03396156430244446\n",
      "Epoch 92, Training Loss: 0.025493495166301727, Test Loss: 0.023778105154633522\n",
      "Epoch 93, Training Loss: 0.023256739601492882, Test Loss: 0.05942022427916527\n",
      "Epoch 94, Training Loss: 0.020772607997059822, Test Loss: 0.06572435051202774\n",
      "Epoch 95, Training Loss: 0.02582455612719059, Test Loss: 0.021394239738583565\n",
      "Epoch 96, Training Loss: 0.03706460818648338, Test Loss: 0.0753311961889267\n",
      "Epoch 97, Training Loss: 0.024551989510655403, Test Loss: 0.07517959922552109\n",
      "Epoch 98, Training Loss: 0.029409140348434448, Test Loss: 0.025499194860458374\n",
      "Epoch 99, Training Loss: 0.03198294714093208, Test Loss: 0.04390812665224075\n",
      "Epoch 100, Training Loss: 0.01885414682328701, Test Loss: 0.06906473636627197\n",
      "Epoch 101, Training Loss: 0.027565324679017067, Test Loss: 0.03321145102381706\n",
      "Epoch 102, Training Loss: 0.03385690227150917, Test Loss: 0.020809819921851158\n",
      "Epoch 103, Training Loss: 0.027456792071461678, Test Loss: 0.04161956533789635\n",
      "Epoch 104, Training Loss: 0.026752574369311333, Test Loss: 0.03972964733839035\n",
      "Epoch 105, Training Loss: 0.05823003128170967, Test Loss: 0.051422927528619766\n",
      "Epoch 106, Training Loss: 0.024142583832144737, Test Loss: 0.015830880030989647\n",
      "Epoch 107, Training Loss: 0.022890761494636536, Test Loss: 0.027794765308499336\n",
      "Epoch 108, Training Loss: 0.02333538793027401, Test Loss: 0.08709286153316498\n",
      "Epoch 109, Training Loss: 0.03350715711712837, Test Loss: 0.030602889135479927\n",
      "Epoch 110, Training Loss: 0.03444221243262291, Test Loss: 0.02691729925572872\n",
      "Epoch 111, Training Loss: 0.010818987153470516, Test Loss: 0.023276785388588905\n",
      "Epoch 112, Training Loss: 0.03018607757985592, Test Loss: 0.03569977730512619\n",
      "Epoch 113, Training Loss: 0.03506305813789368, Test Loss: 0.05052501708269119\n",
      "Epoch 114, Training Loss: 0.040383610874414444, Test Loss: 0.03713411092758179\n",
      "Epoch 115, Training Loss: 0.040730033069849014, Test Loss: 0.036206018179655075\n",
      "Epoch 116, Training Loss: 0.03415019437670708, Test Loss: 0.06055950000882149\n",
      "Epoch 117, Training Loss: 0.04431619122624397, Test Loss: 0.022973474115133286\n",
      "Epoch 118, Training Loss: 0.0385528989136219, Test Loss: 0.03834675997495651\n",
      "Epoch 119, Training Loss: 0.03878595307469368, Test Loss: 0.05613444373011589\n",
      "Epoch 120, Training Loss: 0.02412758767604828, Test Loss: 0.054486148059368134\n",
      "Epoch 121, Training Loss: 0.04288327693939209, Test Loss: 0.04227569326758385\n",
      "Epoch 122, Training Loss: 0.010550727136433125, Test Loss: 0.032339826226234436\n",
      "Epoch 123, Training Loss: 0.03482970595359802, Test Loss: 0.042335789650678635\n",
      "Epoch 124, Training Loss: 0.00867625791579485, Test Loss: 0.026085926219820976\n",
      "Epoch 125, Training Loss: 0.05997440218925476, Test Loss: 0.030194224789738655\n",
      "Epoch 126, Training Loss: 0.0199824757874012, Test Loss: 0.009883184917271137\n",
      "Epoch 127, Training Loss: 0.03742622956633568, Test Loss: 0.021527839824557304\n",
      "Epoch 128, Training Loss: 0.01969548873603344, Test Loss: 0.05768251419067383\n",
      "Epoch 129, Training Loss: 0.05642741546034813, Test Loss: 0.020646777004003525\n",
      "Epoch 130, Training Loss: 0.021305205300450325, Test Loss: 0.03604215011000633\n",
      "Epoch 131, Training Loss: 0.03322776034474373, Test Loss: 0.021277721971273422\n",
      "Epoch 132, Training Loss: 0.06317666172981262, Test Loss: 0.026298407465219498\n",
      "Epoch 133, Training Loss: 0.035720836371183395, Test Loss: 0.04285073280334473\n",
      "Epoch 134, Training Loss: 0.031599074602127075, Test Loss: 0.02885621041059494\n",
      "Epoch 135, Training Loss: 0.019609743729233742, Test Loss: 0.033108703792095184\n",
      "Epoch 136, Training Loss: 0.020163409411907196, Test Loss: 0.03417864814400673\n",
      "Epoch 137, Training Loss: 0.032982103526592255, Test Loss: 0.05453047901391983\n",
      "Epoch 138, Training Loss: 0.023741722106933594, Test Loss: 0.05126956105232239\n",
      "Epoch 139, Training Loss: 0.031044749543070793, Test Loss: 0.02731863036751747\n",
      "Epoch 140, Training Loss: 0.020347952842712402, Test Loss: 0.04320625215768814\n",
      "Epoch 141, Training Loss: 0.02495107613503933, Test Loss: 0.04483655095100403\n",
      "Epoch 142, Training Loss: 0.02599971927702427, Test Loss: 0.04161500558257103\n",
      "Epoch 143, Training Loss: 0.008192709647119045, Test Loss: 0.022916270419955254\n",
      "Epoch 144, Training Loss: 0.019018763676285744, Test Loss: 0.012505313381552696\n",
      "Epoch 145, Training Loss: 0.027233963832259178, Test Loss: 0.03792017698287964\n",
      "Epoch 146, Training Loss: 0.04070969298481941, Test Loss: 0.03743902966380119\n",
      "Epoch 147, Training Loss: 0.012350674718618393, Test Loss: 0.025272097438573837\n",
      "Epoch 148, Training Loss: 0.04040674865245819, Test Loss: 0.058334752917289734\n",
      "Epoch 149, Training Loss: 0.01968980021774769, Test Loss: 0.02024710550904274\n",
      "Epoch 150, Training Loss: 0.037709157913923264, Test Loss: 0.02447185292840004\n",
      "Epoch 151, Training Loss: 0.01673889346420765, Test Loss: 0.030876975506544113\n",
      "Epoch 152, Training Loss: 0.023708730936050415, Test Loss: 0.041062131524086\n",
      "Epoch 153, Training Loss: 0.03229263052344322, Test Loss: 0.0392669215798378\n",
      "Epoch 154, Training Loss: 0.02692537009716034, Test Loss: 0.029189586639404297\n",
      "Epoch 155, Training Loss: 0.025666996836662292, Test Loss: 0.02661822736263275\n",
      "Epoch 156, Training Loss: 0.021209880709648132, Test Loss: 0.057152118533849716\n",
      "Epoch 157, Training Loss: 0.0323682501912117, Test Loss: 0.013511416502296925\n",
      "Epoch 158, Training Loss: 0.02923826314508915, Test Loss: 0.025581639260053635\n",
      "Epoch 159, Training Loss: 0.033969148993492126, Test Loss: 0.036810096353292465\n",
      "Epoch 160, Training Loss: 0.028560562059283257, Test Loss: 0.04251662269234657\n",
      "Epoch 161, Training Loss: 0.05135786160826683, Test Loss: 0.06169690191745758\n",
      "Epoch 162, Training Loss: 0.02142566256225109, Test Loss: 0.04004249349236488\n",
      "Epoch 163, Training Loss: 0.014909032732248306, Test Loss: 0.03447199612855911\n",
      "Epoch 164, Training Loss: 0.039750467985868454, Test Loss: 0.02016226202249527\n",
      "Epoch 165, Training Loss: 0.020670676603913307, Test Loss: 0.04034276679158211\n",
      "Epoch 166, Training Loss: 0.02908056043088436, Test Loss: 0.019842134788632393\n",
      "Epoch 167, Training Loss: 0.02328984998166561, Test Loss: 0.036659397184848785\n",
      "Epoch 168, Training Loss: 0.02023095265030861, Test Loss: 0.016454700380563736\n",
      "Epoch 169, Training Loss: 0.0226749237626791, Test Loss: 0.04659074917435646\n",
      "Epoch 170, Training Loss: 0.013880382291972637, Test Loss: 0.06401621550321579\n",
      "Epoch 171, Training Loss: 0.037186149507761, Test Loss: 0.033873867243528366\n",
      "Epoch 172, Training Loss: 0.025172265246510506, Test Loss: 0.023950666189193726\n",
      "Epoch 173, Training Loss: 0.042669784277677536, Test Loss: 0.037290848791599274\n",
      "Epoch 174, Training Loss: 0.022126244381070137, Test Loss: 0.03277251496911049\n",
      "Epoch 175, Training Loss: 0.02226443588733673, Test Loss: 0.05168638378381729\n",
      "Epoch 176, Training Loss: 0.037557777017354965, Test Loss: 0.037446580827236176\n",
      "Epoch 177, Training Loss: 0.018278352916240692, Test Loss: 0.02813616767525673\n",
      "Epoch 178, Training Loss: 0.01300486084073782, Test Loss: 0.022752322256565094\n",
      "Epoch 179, Training Loss: 0.018384823575615883, Test Loss: 0.03875918686389923\n",
      "Epoch 180, Training Loss: 0.010176025331020355, Test Loss: 0.026271771639585495\n",
      "Epoch 181, Training Loss: 0.03478233888745308, Test Loss: 0.03689635545015335\n",
      "Epoch 182, Training Loss: 0.043850675225257874, Test Loss: 0.015128065831959248\n",
      "Epoch 183, Training Loss: 0.02156742848455906, Test Loss: 0.02488071098923683\n",
      "Epoch 184, Training Loss: 0.03675789758563042, Test Loss: 0.03454020619392395\n",
      "Epoch 185, Training Loss: 0.0337393619120121, Test Loss: 0.019622456282377243\n",
      "Epoch 186, Training Loss: 0.016336815431714058, Test Loss: 0.017442207783460617\n",
      "Epoch 187, Training Loss: 0.010734966956079006, Test Loss: 0.045932453125715256\n",
      "Epoch 188, Training Loss: 0.015910634770989418, Test Loss: 0.03183687850832939\n",
      "Epoch 189, Training Loss: 0.02104947529733181, Test Loss: 0.009878413751721382\n",
      "Epoch 190, Training Loss: 0.022384783253073692, Test Loss: 0.025463834404945374\n",
      "Epoch 191, Training Loss: 0.019955193623900414, Test Loss: 0.01006322167813778\n",
      "Epoch 192, Training Loss: 0.02460799552500248, Test Loss: 0.04387936368584633\n",
      "Epoch 193, Training Loss: 0.037815991789102554, Test Loss: 0.014839506708085537\n",
      "Epoch 194, Training Loss: 0.020644253119826317, Test Loss: 0.026989098638296127\n",
      "Epoch 195, Training Loss: 0.029992766678333282, Test Loss: 0.02870316058397293\n",
      "Epoch 196, Training Loss: 0.022317610681056976, Test Loss: 0.05113379284739494\n",
      "Epoch 197, Training Loss: 0.019176607951521873, Test Loss: 0.05433683469891548\n",
      "Epoch 198, Training Loss: 0.015288767404854298, Test Loss: 0.0529082752764225\n",
      "Epoch 199, Training Loss: 0.013348396867513657, Test Loss: 0.014411949552595615\n",
      "Epoch 200, Training Loss: 0.022300811484456062, Test Loss: 0.01189742237329483\n",
      "Epoch 201, Training Loss: 0.0410703606903553, Test Loss: 0.032928790897130966\n",
      "Epoch 202, Training Loss: 0.04664839431643486, Test Loss: 0.011762900277972221\n",
      "Epoch 203, Training Loss: 0.0310953538864851, Test Loss: 0.02528756856918335\n",
      "Epoch 204, Training Loss: 0.02577010542154312, Test Loss: 0.027815451845526695\n",
      "Epoch 205, Training Loss: 0.02950853295624256, Test Loss: 0.03419508785009384\n",
      "Epoch 206, Training Loss: 0.028644710779190063, Test Loss: 0.020503651350736618\n",
      "Epoch 207, Training Loss: 0.029520168900489807, Test Loss: 0.03971409425139427\n",
      "Epoch 208, Training Loss: 0.043296411633491516, Test Loss: 0.025009041652083397\n",
      "Epoch 209, Training Loss: 0.021141543984413147, Test Loss: 0.011381836608052254\n",
      "Epoch 210, Training Loss: 0.019844992086291313, Test Loss: 0.010948472656309605\n",
      "Epoch 211, Training Loss: 0.02795652113854885, Test Loss: 0.04497776925563812\n",
      "Epoch 212, Training Loss: 0.01598791964352131, Test Loss: 0.027577504515647888\n",
      "Epoch 213, Training Loss: 0.01417841762304306, Test Loss: 0.06494029611349106\n",
      "Epoch 214, Training Loss: 0.03220868110656738, Test Loss: 0.04524620994925499\n",
      "Epoch 215, Training Loss: 0.00980545487254858, Test Loss: 0.01911972090601921\n",
      "Epoch 216, Training Loss: 0.01953541301190853, Test Loss: 0.01410234160721302\n",
      "Epoch 217, Training Loss: 0.019101064652204514, Test Loss: 0.017106471583247185\n",
      "Epoch 218, Training Loss: 0.03308122232556343, Test Loss: 0.02509494498372078\n",
      "Epoch 219, Training Loss: 0.02066730335354805, Test Loss: 0.03591630235314369\n",
      "Epoch 220, Training Loss: 0.021728696301579475, Test Loss: 0.02833721600472927\n",
      "Epoch 221, Training Loss: 0.030904799699783325, Test Loss: 0.017332090064883232\n",
      "Epoch 222, Training Loss: 0.025946469977498055, Test Loss: 0.019144902005791664\n",
      "Epoch 223, Training Loss: 0.013223138637840748, Test Loss: 0.01556595042347908\n",
      "Epoch 224, Training Loss: 0.014723725616931915, Test Loss: 0.024535521864891052\n",
      "Epoch 225, Training Loss: 0.02631835639476776, Test Loss: 0.032127317041158676\n",
      "Epoch 226, Training Loss: 0.03027554787695408, Test Loss: 0.020999431610107422\n",
      "Epoch 227, Training Loss: 0.022671936079859734, Test Loss: 0.014836368151009083\n",
      "Epoch 228, Training Loss: 0.023328274488449097, Test Loss: 0.012602334842085838\n",
      "Epoch 229, Training Loss: 0.020383508875966072, Test Loss: 0.028698597103357315\n",
      "Epoch 230, Training Loss: 0.022729553282260895, Test Loss: 0.02596903406083584\n",
      "Epoch 231, Training Loss: 0.014003355987370014, Test Loss: 0.014448590576648712\n",
      "Epoch 232, Training Loss: 0.029205577448010445, Test Loss: 0.03042912855744362\n",
      "Epoch 233, Training Loss: 0.014480513520538807, Test Loss: 0.02003071829676628\n",
      "Epoch 234, Training Loss: 0.008875872939825058, Test Loss: 0.01985473558306694\n",
      "Epoch 235, Training Loss: 0.011484876275062561, Test Loss: 0.031045351177453995\n",
      "Epoch 236, Training Loss: 0.010436897166073322, Test Loss: 0.03635457530617714\n",
      "Epoch 237, Training Loss: 0.017970960587263107, Test Loss: 0.01686960831284523\n",
      "Epoch 238, Training Loss: 0.01716964691877365, Test Loss: 0.013536636717617512\n",
      "Epoch 239, Training Loss: 0.021870017051696777, Test Loss: 0.02385726571083069\n",
      "Epoch 240, Training Loss: 0.03112051822245121, Test Loss: 0.05687699466943741\n",
      "Epoch 241, Training Loss: 0.021477414295077324, Test Loss: 0.04834457114338875\n",
      "Epoch 242, Training Loss: 0.03203660622239113, Test Loss: 0.015408456325531006\n",
      "Epoch 243, Training Loss: 0.013305187225341797, Test Loss: 0.02430240623652935\n",
      "Epoch 244, Training Loss: 0.018675461411476135, Test Loss: 0.021617451682686806\n",
      "Epoch 245, Training Loss: 0.012469234876334667, Test Loss: 0.01610666885972023\n",
      "Epoch 246, Training Loss: 0.016300911083817482, Test Loss: 0.021436845883727074\n",
      "Epoch 247, Training Loss: 0.019518772140145302, Test Loss: 0.022433599457144737\n",
      "Epoch 248, Training Loss: 0.018909187987446785, Test Loss: 0.025108521804213524\n",
      "Epoch 249, Training Loss: 0.03780115768313408, Test Loss: 0.03035041317343712\n",
      "Epoch 250, Training Loss: 0.022610202431678772, Test Loss: 0.0173585694283247\n",
      "Epoch 251, Training Loss: 0.015596422366797924, Test Loss: 0.032101843506097794\n",
      "Epoch 252, Training Loss: 0.03861121088266373, Test Loss: 0.014148588292300701\n",
      "Epoch 253, Training Loss: 0.0272084791213274, Test Loss: 0.04137720540165901\n",
      "Epoch 254, Training Loss: 0.026286177337169647, Test Loss: 0.03803877532482147\n",
      "Epoch 255, Training Loss: 0.01712346263229847, Test Loss: 0.02071680873632431\n",
      "Epoch 256, Training Loss: 0.01178568135946989, Test Loss: 0.01638338342308998\n",
      "Epoch 257, Training Loss: 0.031226349994540215, Test Loss: 0.013503417372703552\n",
      "Epoch 258, Training Loss: 0.04739765822887421, Test Loss: 0.02258475311100483\n",
      "Epoch 259, Training Loss: 0.02783847041428089, Test Loss: 0.024446645751595497\n",
      "Epoch 260, Training Loss: 0.02043573185801506, Test Loss: 0.042741186916828156\n",
      "Epoch 261, Training Loss: 0.01743423007428646, Test Loss: 0.043763820081949234\n",
      "Epoch 262, Training Loss: 0.012593981809914112, Test Loss: 0.026045389473438263\n",
      "Epoch 263, Training Loss: 0.036131180822849274, Test Loss: 0.012583557516336441\n",
      "Epoch 264, Training Loss: 0.03419170528650284, Test Loss: 0.017020417377352715\n",
      "Epoch 265, Training Loss: 0.023373931646347046, Test Loss: 0.03150785341858864\n",
      "Epoch 266, Training Loss: 0.023300034925341606, Test Loss: 0.009567846544086933\n",
      "Epoch 267, Training Loss: 0.014699563384056091, Test Loss: 0.008898933418095112\n",
      "Epoch 268, Training Loss: 0.014184205792844296, Test Loss: 0.03260372206568718\n",
      "Epoch 269, Training Loss: 0.017077114433050156, Test Loss: 0.02033405192196369\n",
      "Epoch 270, Training Loss: 0.03548340126872063, Test Loss: 0.026032008230686188\n",
      "Epoch 271, Training Loss: 0.026376960799098015, Test Loss: 0.02221040055155754\n",
      "Epoch 272, Training Loss: 0.01782887987792492, Test Loss: 0.017332592979073524\n",
      "Epoch 273, Training Loss: 0.023927105590701103, Test Loss: 0.05744989588856697\n",
      "Epoch 274, Training Loss: 0.016236871480941772, Test Loss: 0.013979083858430386\n",
      "Epoch 275, Training Loss: 0.021030664443969727, Test Loss: 0.020590540021657944\n",
      "Epoch 276, Training Loss: 0.030349282547831535, Test Loss: 0.036466944962739944\n",
      "Epoch 277, Training Loss: 0.02997400052845478, Test Loss: 0.02825351245701313\n",
      "Epoch 278, Training Loss: 0.017558028921484947, Test Loss: 0.023376764729619026\n",
      "Epoch 279, Training Loss: 0.032949406653642654, Test Loss: 0.014820976182818413\n",
      "Epoch 280, Training Loss: 0.013289529830217361, Test Loss: 0.018708162009716034\n",
      "Epoch 281, Training Loss: 0.02550605498254299, Test Loss: 0.02162177674472332\n",
      "Epoch 282, Training Loss: 0.017675476148724556, Test Loss: 0.016585515812039375\n",
      "Epoch 283, Training Loss: 0.021766209974884987, Test Loss: 0.0343511663377285\n",
      "Epoch 284, Training Loss: 0.02230040542781353, Test Loss: 0.009450978599488735\n",
      "Epoch 285, Training Loss: 0.01290957722812891, Test Loss: 0.0430527962744236\n",
      "Epoch 286, Training Loss: 0.012675789184868336, Test Loss: 0.02839372493326664\n",
      "Epoch 287, Training Loss: 0.026368478313088417, Test Loss: 0.022281164303421974\n",
      "Epoch 288, Training Loss: 0.018339427188038826, Test Loss: 0.019581947475671768\n",
      "Epoch 289, Training Loss: 0.031229639425873756, Test Loss: 0.014737541787326336\n",
      "Epoch 290, Training Loss: 0.03157832473516464, Test Loss: 0.044302862137556076\n",
      "Epoch 291, Training Loss: 0.033701326698064804, Test Loss: 0.037797510623931885\n",
      "Epoch 292, Training Loss: 0.024449005722999573, Test Loss: 0.005282748956233263\n",
      "Epoch 293, Training Loss: 0.021556241437792778, Test Loss: 0.018438244238495827\n",
      "Epoch 294, Training Loss: 0.00877081323415041, Test Loss: 0.01463697012513876\n",
      "Epoch 295, Training Loss: 0.025127723813056946, Test Loss: 0.03875152766704559\n",
      "Epoch 296, Training Loss: 0.01173549983650446, Test Loss: 0.02153165265917778\n",
      "Epoch 297, Training Loss: 0.03203389421105385, Test Loss: 0.03437381610274315\n",
      "Epoch 298, Training Loss: 0.01877281628549099, Test Loss: 0.013935321010649204\n",
      "Epoch 299, Training Loss: 0.020477091893553734, Test Loss: 0.010717335157096386\n",
      "Epoch 300, Training Loss: 0.01654176600277424, Test Loss: 0.02386663854122162\n",
      "Epoch 301, Training Loss: 0.011448126286268234, Test Loss: 0.025251982733607292\n",
      "Epoch 302, Training Loss: 0.020918911322951317, Test Loss: 0.01891973614692688\n",
      "Epoch 303, Training Loss: 0.015249031595885754, Test Loss: 0.011396881192922592\n",
      "Epoch 304, Training Loss: 0.01454022154211998, Test Loss: 0.03227345272898674\n",
      "Epoch 305, Training Loss: 0.012247939594089985, Test Loss: 0.052181847393512726\n",
      "Epoch 306, Training Loss: 0.02848704718053341, Test Loss: 0.017504004761576653\n",
      "Epoch 307, Training Loss: 0.011258143931627274, Test Loss: 0.017015835270285606\n",
      "Epoch 308, Training Loss: 0.012730569578707218, Test Loss: 0.03197501227259636\n",
      "Epoch 309, Training Loss: 0.011255045421421528, Test Loss: 0.020194033160805702\n",
      "Epoch 310, Training Loss: 0.014079366810619831, Test Loss: 0.02509077452123165\n",
      "Epoch 311, Training Loss: 0.02384926564991474, Test Loss: 0.020050324499607086\n",
      "Epoch 312, Training Loss: 0.014730308204889297, Test Loss: 0.018086165189743042\n",
      "Epoch 313, Training Loss: 0.021255962550640106, Test Loss: 0.025515945628285408\n",
      "Epoch 314, Training Loss: 0.03419230878353119, Test Loss: 0.03021387569606304\n",
      "Epoch 315, Training Loss: 0.019164763391017914, Test Loss: 0.03705424442887306\n",
      "Epoch 316, Training Loss: 0.017685288563370705, Test Loss: 0.007373780012130737\n",
      "Epoch 317, Training Loss: 0.01776241511106491, Test Loss: 0.035355836153030396\n",
      "Epoch 318, Training Loss: 0.029741639271378517, Test Loss: 0.0320383720099926\n",
      "Epoch 319, Training Loss: 0.024622151628136635, Test Loss: 0.014499138109385967\n",
      "Epoch 320, Training Loss: 0.017299344763159752, Test Loss: 0.040776561945676804\n",
      "Epoch 321, Training Loss: 0.010519000701606274, Test Loss: 0.027473486959934235\n",
      "Epoch 322, Training Loss: 0.017248764634132385, Test Loss: 0.03798368573188782\n",
      "Epoch 323, Training Loss: 0.023428479209542274, Test Loss: 0.02419651672244072\n",
      "Epoch 324, Training Loss: 0.016094161197543144, Test Loss: 0.03945432975888252\n",
      "Epoch 325, Training Loss: 0.015726666897535324, Test Loss: 0.03533681109547615\n",
      "Epoch 326, Training Loss: 0.021491972729563713, Test Loss: 0.027844591066241264\n",
      "Epoch 327, Training Loss: 0.02576948143541813, Test Loss: 0.02574869990348816\n",
      "Epoch 328, Training Loss: 0.017704779282212257, Test Loss: 0.038030821830034256\n",
      "Epoch 329, Training Loss: 0.03730682656168938, Test Loss: 0.03070005774497986\n",
      "Epoch 330, Training Loss: 0.02891302853822708, Test Loss: 0.05366247147321701\n",
      "Epoch 331, Training Loss: 0.019679302349686623, Test Loss: 0.04352131858468056\n",
      "Epoch 332, Training Loss: 0.030077725648880005, Test Loss: 0.022766441106796265\n",
      "Epoch 333, Training Loss: 0.02442067302763462, Test Loss: 0.03063187189400196\n",
      "Epoch 334, Training Loss: 0.021774781867861748, Test Loss: 0.026175351813435555\n",
      "Epoch 335, Training Loss: 0.012279796414077282, Test Loss: 0.012764732353389263\n",
      "Epoch 336, Training Loss: 0.02384045720100403, Test Loss: 0.014824300073087215\n",
      "Epoch 337, Training Loss: 0.024035058915615082, Test Loss: 0.03330627456307411\n",
      "Epoch 338, Training Loss: 0.011130773462355137, Test Loss: 0.01721026934683323\n",
      "Epoch 339, Training Loss: 0.0174576323479414, Test Loss: 0.018712183460593224\n",
      "Epoch 340, Training Loss: 0.016658904030919075, Test Loss: 0.025004366412758827\n",
      "Epoch 341, Training Loss: 0.026440398767590523, Test Loss: 0.01288013905286789\n",
      "Epoch 342, Training Loss: 0.013022656552493572, Test Loss: 0.017996327951550484\n",
      "Epoch 343, Training Loss: 0.029215047135949135, Test Loss: 0.023666320368647575\n",
      "Epoch 344, Training Loss: 0.006541268900036812, Test Loss: 0.01897500641644001\n",
      "Epoch 345, Training Loss: 0.012154393829405308, Test Loss: 0.016711732372641563\n",
      "Epoch 346, Training Loss: 0.015674103051424026, Test Loss: 0.017421051859855652\n",
      "Epoch 347, Training Loss: 0.014049570076167583, Test Loss: 0.015332954004406929\n",
      "Epoch 348, Training Loss: 0.02499515749514103, Test Loss: 0.016857801005244255\n",
      "Epoch 349, Training Loss: 0.009259422309696674, Test Loss: 0.021746506914496422\n",
      "Epoch 350, Training Loss: 0.014897854067385197, Test Loss: 0.015659887343645096\n",
      "Epoch 351, Training Loss: 0.021085793152451515, Test Loss: 0.041221536695957184\n",
      "Epoch 352, Training Loss: 0.015378323383629322, Test Loss: 0.02330661192536354\n",
      "Epoch 353, Training Loss: 0.010373282246291637, Test Loss: 0.039742857217788696\n",
      "Epoch 354, Training Loss: 0.018940027803182602, Test Loss: 0.02967582829296589\n",
      "Epoch 355, Training Loss: 0.018005533143877983, Test Loss: 0.039433617144823074\n",
      "Epoch 356, Training Loss: 0.011066481471061707, Test Loss: 0.013441464863717556\n",
      "Epoch 357, Training Loss: 0.01380641758441925, Test Loss: 0.010206949897110462\n",
      "Epoch 358, Training Loss: 0.014441716484725475, Test Loss: 0.01872790977358818\n",
      "Epoch 359, Training Loss: 0.04533655568957329, Test Loss: 0.03738044574856758\n",
      "Epoch 360, Training Loss: 0.026623429730534554, Test Loss: 0.020848596468567848\n",
      "Epoch 361, Training Loss: 0.009652423672378063, Test Loss: 0.03049505315721035\n",
      "Epoch 362, Training Loss: 0.029751954600214958, Test Loss: 0.02366088517010212\n",
      "Epoch 363, Training Loss: 0.01403565052896738, Test Loss: 0.015257496386766434\n",
      "Epoch 364, Training Loss: 0.02102609910070896, Test Loss: 0.018075307831168175\n",
      "Epoch 365, Training Loss: 0.03902684524655342, Test Loss: 0.027635078877210617\n",
      "Epoch 366, Training Loss: 0.0163128562271595, Test Loss: 0.024854738265275955\n",
      "Epoch 367, Training Loss: 0.019352668896317482, Test Loss: 0.024349987506866455\n",
      "Epoch 368, Training Loss: 0.01922025717794895, Test Loss: 0.04011918976902962\n",
      "Epoch 369, Training Loss: 0.024990946054458618, Test Loss: 0.03532719612121582\n",
      "Epoch 370, Training Loss: 0.015188678167760372, Test Loss: 0.034883130341768265\n",
      "Epoch 371, Training Loss: 0.03698630630970001, Test Loss: 0.04511069506406784\n",
      "Epoch 372, Training Loss: 0.024447059258818626, Test Loss: 0.017238140106201172\n",
      "Epoch 373, Training Loss: 0.01891401968896389, Test Loss: 0.027202976867556572\n",
      "Epoch 374, Training Loss: 0.023822015151381493, Test Loss: 0.01576504483819008\n",
      "Epoch 375, Training Loss: 0.014551028609275818, Test Loss: 0.032108742743730545\n",
      "Epoch 376, Training Loss: 0.022250553593039513, Test Loss: 0.012953470461070538\n",
      "Epoch 377, Training Loss: 0.01808650605380535, Test Loss: 0.01781284436583519\n",
      "Epoch 378, Training Loss: 0.02143641747534275, Test Loss: 0.03206998109817505\n",
      "Epoch 379, Training Loss: 0.01552016194909811, Test Loss: 0.023075152188539505\n",
      "Epoch 380, Training Loss: 0.013302844949066639, Test Loss: 0.027005046606063843\n",
      "Epoch 381, Training Loss: 0.024599244818091393, Test Loss: 0.047054875642061234\n",
      "Epoch 382, Training Loss: 0.029285015538334846, Test Loss: 0.029728349298238754\n",
      "Epoch 383, Training Loss: 0.017193833366036415, Test Loss: 0.014711719006299973\n",
      "Epoch 384, Training Loss: 0.016134705394506454, Test Loss: 0.01299457997083664\n",
      "Epoch 385, Training Loss: 0.017388679087162018, Test Loss: 0.020420804619789124\n",
      "Epoch 386, Training Loss: 0.030643755570054054, Test Loss: 0.02225399948656559\n",
      "Epoch 387, Training Loss: 0.026505686342716217, Test Loss: 0.013896191492676735\n",
      "Epoch 388, Training Loss: 0.018548818305134773, Test Loss: 0.016510073095560074\n",
      "Epoch 389, Training Loss: 0.026455221697688103, Test Loss: 0.02485511638224125\n",
      "Epoch 390, Training Loss: 0.009489016607403755, Test Loss: 0.01739695854485035\n",
      "Epoch 391, Training Loss: 0.010814438574016094, Test Loss: 0.01039136853069067\n",
      "Epoch 392, Training Loss: 0.01026423741132021, Test Loss: 0.009869059547781944\n",
      "Epoch 393, Training Loss: 0.01887824572622776, Test Loss: 0.014680519700050354\n",
      "Epoch 394, Training Loss: 0.022481031715869904, Test Loss: 0.036691028624773026\n",
      "Epoch 395, Training Loss: 0.014659185893833637, Test Loss: 0.02281300351023674\n",
      "Epoch 396, Training Loss: 0.01712598092854023, Test Loss: 0.028540678322315216\n",
      "Epoch 397, Training Loss: 0.012415978126227856, Test Loss: 0.021254977211356163\n",
      "Epoch 398, Training Loss: 0.02997521311044693, Test Loss: 0.012683868408203125\n",
      "Epoch 399, Training Loss: 0.009022864513099194, Test Loss: 0.01306725014001131\n",
      "Epoch 400, Training Loss: 0.01708701066672802, Test Loss: 0.01681353710591793\n",
      "Epoch 401, Training Loss: 0.01842837780714035, Test Loss: 0.019161561504006386\n",
      "Epoch 402, Training Loss: 0.013244960457086563, Test Loss: 0.0378691591322422\n",
      "Epoch 403, Training Loss: 0.02285171113908291, Test Loss: 0.026783056557178497\n",
      "Epoch 404, Training Loss: 0.03881825879216194, Test Loss: 0.03248578682541847\n",
      "Epoch 405, Training Loss: 0.01599961705505848, Test Loss: 0.04155660420656204\n",
      "Epoch 406, Training Loss: 0.015570920892059803, Test Loss: 0.03800829499959946\n",
      "Epoch 407, Training Loss: 0.024904688820242882, Test Loss: 0.018530694767832756\n",
      "Epoch 408, Training Loss: 0.028965039178729057, Test Loss: 0.02801937237381935\n",
      "Epoch 409, Training Loss: 0.014044358395040035, Test Loss: 0.020739274099469185\n",
      "Epoch 410, Training Loss: 0.012987613677978516, Test Loss: 0.017430244013667107\n",
      "Epoch 411, Training Loss: 0.01853959634900093, Test Loss: 0.040501728653907776\n",
      "Epoch 412, Training Loss: 0.016815682873129845, Test Loss: 0.05454833060503006\n",
      "Epoch 413, Training Loss: 0.014243640005588531, Test Loss: 0.014956693165004253\n",
      "Epoch 414, Training Loss: 0.016890613362193108, Test Loss: 0.030317654833197594\n",
      "Epoch 415, Training Loss: 0.015428413636982441, Test Loss: 0.02863350883126259\n",
      "Epoch 416, Training Loss: 0.02075839228928089, Test Loss: 0.01748080365359783\n",
      "Epoch 417, Training Loss: 0.015219486318528652, Test Loss: 0.019594021141529083\n",
      "Epoch 418, Training Loss: 0.02261452190577984, Test Loss: 0.03444811329245567\n",
      "Epoch 419, Training Loss: 0.013163983821868896, Test Loss: 0.02679339423775673\n",
      "Epoch 420, Training Loss: 0.018298355862498283, Test Loss: 0.011241109110414982\n",
      "Epoch 421, Training Loss: 0.03605878725647926, Test Loss: 0.055126532912254333\n",
      "Epoch 422, Training Loss: 0.015183445997536182, Test Loss: 0.013187350705265999\n",
      "Epoch 423, Training Loss: 0.028399338945746422, Test Loss: 0.027192221954464912\n",
      "Epoch 424, Training Loss: 0.015359069220721722, Test Loss: 0.013802280649542809\n",
      "Epoch 425, Training Loss: 0.023477768525481224, Test Loss: 0.018633514642715454\n",
      "Epoch 426, Training Loss: 0.0178546030074358, Test Loss: 0.020080553367733955\n",
      "Epoch 427, Training Loss: 0.021270861849188805, Test Loss: 0.05233709514141083\n",
      "Epoch 428, Training Loss: 0.026942847296595573, Test Loss: 0.017731700092554092\n",
      "Epoch 429, Training Loss: 0.019595643505454063, Test Loss: 0.01380421593785286\n",
      "Epoch 430, Training Loss: 0.015757733955979347, Test Loss: 0.019549041986465454\n",
      "Epoch 431, Training Loss: 0.03645111992955208, Test Loss: 0.008921479806303978\n",
      "Epoch 432, Training Loss: 0.022944511845707893, Test Loss: 0.030774036422371864\n",
      "Epoch 433, Training Loss: 0.006722290068864822, Test Loss: 0.03190208598971367\n",
      "Epoch 434, Training Loss: 0.019133541733026505, Test Loss: 0.021306877955794334\n",
      "Epoch 435, Training Loss: 0.03262058272957802, Test Loss: 0.02025495655834675\n",
      "Epoch 436, Training Loss: 0.01852043904364109, Test Loss: 0.03539292514324188\n",
      "Epoch 437, Training Loss: 0.00874937791377306, Test Loss: 0.02546028606593609\n",
      "Epoch 438, Training Loss: 0.027533987537026405, Test Loss: 0.03454967215657234\n",
      "Epoch 439, Training Loss: 0.008985280990600586, Test Loss: 0.004441950470209122\n",
      "Epoch 440, Training Loss: 0.018262894824147224, Test Loss: 0.02172161266207695\n",
      "Epoch 441, Training Loss: 0.015818240121006966, Test Loss: 0.01932772435247898\n",
      "Epoch 442, Training Loss: 0.014393769204616547, Test Loss: 0.009581761434674263\n",
      "Epoch 443, Training Loss: 0.033483874052762985, Test Loss: 0.015791967511177063\n",
      "Epoch 444, Training Loss: 0.015789395198225975, Test Loss: 0.031814735382795334\n",
      "Epoch 445, Training Loss: 0.012330606579780579, Test Loss: 0.008910012431442738\n",
      "Epoch 446, Training Loss: 0.03037855587899685, Test Loss: 0.008392227813601494\n",
      "Epoch 447, Training Loss: 0.01079045981168747, Test Loss: 0.041133735328912735\n",
      "Epoch 448, Training Loss: 0.009797580540180206, Test Loss: 0.013501002453267574\n",
      "Epoch 449, Training Loss: 0.025781624019145966, Test Loss: 0.03241591528058052\n",
      "Epoch 450, Training Loss: 0.013445906341075897, Test Loss: 0.015538093633949757\n",
      "Epoch 451, Training Loss: 0.025205077603459358, Test Loss: 0.01565656252205372\n",
      "Epoch 452, Training Loss: 0.023678986355662346, Test Loss: 0.024927513673901558\n",
      "Epoch 453, Training Loss: 0.019716471433639526, Test Loss: 0.014564954675734043\n",
      "Epoch 454, Training Loss: 0.023650750517845154, Test Loss: 0.016131598502397537\n",
      "Epoch 455, Training Loss: 0.012970310635864735, Test Loss: 0.039706554263830185\n",
      "Epoch 456, Training Loss: 0.021827831864356995, Test Loss: 0.03766172006726265\n",
      "Epoch 457, Training Loss: 0.017929131165146828, Test Loss: 0.018755221739411354\n",
      "Epoch 458, Training Loss: 0.034078843891620636, Test Loss: 0.011071078479290009\n",
      "Epoch 459, Training Loss: 0.02793886326253414, Test Loss: 0.011493658646941185\n",
      "Epoch 460, Training Loss: 0.007661967072635889, Test Loss: 0.014357377775013447\n",
      "Epoch 461, Training Loss: 0.015165888704359531, Test Loss: 0.03092638961970806\n",
      "Epoch 462, Training Loss: 0.018354030326008797, Test Loss: 0.01623808965086937\n",
      "Epoch 463, Training Loss: 0.01116239558905363, Test Loss: 0.009700322523713112\n",
      "Epoch 464, Training Loss: 0.0056500621140003204, Test Loss: 0.015194807201623917\n",
      "Epoch 465, Training Loss: 0.007928055711090565, Test Loss: 0.019553417339920998\n",
      "Epoch 466, Training Loss: 0.011807919479906559, Test Loss: 0.016594385728240013\n",
      "Epoch 467, Training Loss: 0.012777862139046192, Test Loss: 0.012169037945568562\n",
      "Epoch 468, Training Loss: 0.008096219040453434, Test Loss: 0.010448060929775238\n",
      "Epoch 469, Training Loss: 0.019565949216485023, Test Loss: 0.03830825537443161\n",
      "Epoch 470, Training Loss: 0.027189256623387337, Test Loss: 0.033679164946079254\n",
      "Epoch 471, Training Loss: 0.02095695771276951, Test Loss: 0.013687483966350555\n",
      "Epoch 472, Training Loss: 0.021029585972428322, Test Loss: 0.04604126885533333\n",
      "Epoch 473, Training Loss: 0.029600081965327263, Test Loss: 0.016693798825144768\n",
      "Epoch 474, Training Loss: 0.021238630637526512, Test Loss: 0.03156409412622452\n",
      "Epoch 475, Training Loss: 0.012101427651941776, Test Loss: 0.05142848193645477\n",
      "Epoch 476, Training Loss: 0.013265769928693771, Test Loss: 0.008409549482166767\n",
      "Epoch 477, Training Loss: 0.012329264543950558, Test Loss: 0.01833905093371868\n",
      "Epoch 478, Training Loss: 0.01550773810595274, Test Loss: 0.01897355169057846\n",
      "Epoch 479, Training Loss: 0.026972852647304535, Test Loss: 0.04866650700569153\n",
      "Epoch 480, Training Loss: 0.01941916160285473, Test Loss: 0.021263781934976578\n",
      "Epoch 481, Training Loss: 0.0217794980853796, Test Loss: 0.04927516728639603\n",
      "Epoch 482, Training Loss: 0.03785986825823784, Test Loss: 0.021385934203863144\n",
      "Epoch 483, Training Loss: 0.01086957473307848, Test Loss: 0.015799283981323242\n",
      "Epoch 484, Training Loss: 0.012908321805298328, Test Loss: 0.03237046301364899\n",
      "Epoch 485, Training Loss: 0.01938619837164879, Test Loss: 0.019689088687300682\n",
      "Epoch 486, Training Loss: 0.009947656653821468, Test Loss: 0.013668527826666832\n",
      "Epoch 487, Training Loss: 0.04726501181721687, Test Loss: 0.015157291665673256\n",
      "Epoch 488, Training Loss: 0.020167285576462746, Test Loss: 0.012376814149320126\n",
      "Epoch 489, Training Loss: 0.034138794988393784, Test Loss: 0.013125278986990452\n",
      "Epoch 490, Training Loss: 0.015193880535662174, Test Loss: 0.009373615495860577\n",
      "Epoch 491, Training Loss: 0.022584641352295876, Test Loss: 0.01090816967189312\n",
      "Epoch 492, Training Loss: 0.008575794287025928, Test Loss: 0.02587101422250271\n",
      "Epoch 493, Training Loss: 0.012432063929736614, Test Loss: 0.014123230241239071\n",
      "Epoch 494, Training Loss: 0.026113323867321014, Test Loss: 0.03643288463354111\n",
      "Epoch 495, Training Loss: 0.03321905434131622, Test Loss: 0.014933228492736816\n",
      "Epoch 496, Training Loss: 0.021048111841082573, Test Loss: 0.031220711767673492\n",
      "Epoch 497, Training Loss: 0.01595434360206127, Test Loss: 0.01869778521358967\n",
      "Epoch 498, Training Loss: 0.02322457917034626, Test Loss: 0.019536487758159637\n",
      "Epoch 499, Training Loss: 0.033336177468299866, Test Loss: 0.01658596843481064\n"
     ]
    }
   ],
   "source": [
    "model_train = FinalModel().to(device)\n",
    "best_loss = 10000\n",
    "best_model = model_train.state_dict()\n",
    "epochs = 500\n",
    "learning_rate = 3e-5\n",
    "loss_fn = nn.MSELoss(reduction='mean')\n",
    "optimizer = torch.optim.Adam(model_train.parameters(), lr=learning_rate)\n",
    "test_loss = []\n",
    "train_loss = []\n",
    "for i in range(epochs):\n",
    "    for X, Y in train_loader:\n",
    "        X, Y = X.to(device), Y.to(device)\n",
    "        Y_pred = model_train(X.float())\n",
    "        # continue\n",
    "        loss = loss_fn(Y_pred, Y.float())\n",
    "        optimizer.zero_grad()\n",
    "        loss.backward()\n",
    "        optimizer.step()\n",
    "    train_loss.append(loss.item())\n",
    "    # Test Loss\n",
    "    with torch.no_grad():\n",
    "        for X, Y in test_loader:\n",
    "            X, Y = X.to(device), Y.to(device)\n",
    "            Y_pred = model_train(X.float())\n",
    "            test_loss_fn = loss_fn(Y_pred, Y.float())\n",
    "        print(f'Epoch {i}, Training Loss: {loss.item()}, Test Loss: {test_loss_fn.item()}')\n",
    "        test_loss.append(test_loss_fn.item())\n",
    "        if(test_loss_fn.item() < best_loss):\n",
    "            best_loss = test_loss_fn.item()\n",
    "            best_model = model_train.state_dict()"
   ]
  },
  {
   "cell_type": "code",
   "execution_count": 82,
   "metadata": {},
   "outputs": [
    {
     "data": {
      "text/plain": [
       "Text(0.5, 1.0, '20240513-124404')"
      ]
     },
     "execution_count": 82,
     "metadata": {},
     "output_type": "execute_result"
    },
    {
     "data": {
      "image/png": "[encoded data removed]",
      "text/plain": [
       "<Figure size 640x480 with 1 Axes>"
      ]
     },
     "metadata": {},
     "output_type": "display_data"
    }
   ],
   "source": [
    "plt.plot(train_loss[:], label='Training Loss')\n",
    "plt.plot(test_loss[:], label='Test Loss')\n",
    "plt.legend()\n",
    "datestring = datetime.datetime.now().strftime(\"%Y%m%d-%H%M%S\")\n",
    "plt.title(datestring)\n",
    "# plt.savefig(f'./train_logs/{datestring}.png')"
   ]
  },
  {
   "cell_type": "code",
   "execution_count": 83,
   "metadata": {},
   "outputs": [
    {
     "data": {
      "text/plain": [
       "0.004441950470209122"
      ]
     },
     "execution_count": 83,
     "metadata": {},
     "output_type": "execute_result"
    }
   ],
   "source": [
    "best_loss"
   ]
  },
  {
   "cell_type": "code",
   "execution_count": 84,
   "metadata": {},
   "outputs": [
    {
     "data": {
      "text/plain": [
       "tensor([[13.9054, 27.2909, 39.8112]], grad_fn=<MulBackward0>)"
      ]
     },
     "execution_count": 84,
     "metadata": {},
     "output_type": "execute_result"
    }
   ],
   "source": [
    "model_train(torch.stack([X[0]]).float())*100"
   ]
  },
  {
   "cell_type": "code",
   "execution_count": 85,
   "metadata": {},
   "outputs": [],
   "source": [
    "torch.save(best_model, f'./models/{datestring}.pth')"
   ]
  },
  {
   "cell_type": "code",
   "execution_count": 86,
   "metadata": {},
   "outputs": [
    {
     "data": {
      "text/plain": [
       "'20240513-124404'"
      ]
     },
     "execution_count": 86,
     "metadata": {},
     "output_type": "execute_result"
    }
   ],
   "source": [
    "datestring"
   ]
  },
  {
   "cell_type": "code",
   "execution_count": 87,
   "metadata": {},
   "outputs": [
    {
     "data": {
      "text/plain": [
       "<All keys matched successfully>"
      ]
     },
     "execution_count": 87,
     "metadata": {},
     "output_type": "execute_result"
    }
   ],
   "source": [
    "new_model = FinalModel()\n",
    "new_model.load_state_dict(best_model)"
   ]
  },
  {
   "cell_type": "code",
   "execution_count": 88,
   "metadata": {},
   "outputs": [
    {
     "name": "stdout",
     "output_type": "stream",
     "text": [
      "[0.237434079992342, 0.23599496394746558, 0.21025824310769473, 0.10415357334732327, 0.09653116390450582, 0.07708445767634452, 0.07017728978279181, 0.07010245229553003, 0.06953080373038527, 0.06316067086075354, 0.05375550992056857, 0.05171871838895692, 0.051068760456003386, 0.04226360206282226, 0.04176877010454255, 0.04106141142526409, 0.03565474190570402, 0.03468160595712287, 0.03436230723884405, 0.0333078108090503, 0.030852344535218863, 0.03027112547436241, 0.029737487088913887, 0.027393330493455298, 0.026649584620306033, 0.025702983373173355, 0.02442277241359687, 0.024380823994859625, 0.021689424088120277, 0.0209430917337206, 0.01931142634501737, 0.018507549668403126, 0.01846772595588934, 0.01793098673927784, 0.017838246055386805, 0.01748455930068207, 0.01717493754513795, 0.01660040749485409, 0.01629469195836292, 0.016050867942646877, 0.016046095947142385, 0.01531941166381387, 0.014203915161763158, 0.013774131364976815, 0.013647437222839648, 0.01257338034842905, 0.012421524219632546, 0.012253991142844686, 0.012216669625248408, 0.011635968957914793, 0.011244378469678074, 0.01105321845476506, 0.010840575284587373, 0.00982745962189612, 0.009718257397439294, 0.008767247417377139, 0.00865453983509106, 0.008461616356048553, 0.00812890715237384, 0.00804259348995384, 0.008040366998977708, 0.007404112134276623, 0.007279833900846774, 0.006840646422654947, 0.006360146067212798, 0.0061817829583014905, 0.006155977312979378, 0.006087106219377671, 0.005713952291352592, 0.005488797567761074, 0.005444385723632127, 0.004874276931318105, 0.004703469794333305, 0.004213280092682709, 0.004132063079641991, 0.004067333245532368, 0.0039095482787818376, 0.0038841627654877457, 0.003865949928263611, 0.003800345081179163, 0.0033872389059683016, 0.0032920020708891197, 0.0029870442053781493, 0.002904712455045321, 0.0028712566343588194, 0.0026811536334822718, 0.002462796854926221, 0.00240339597104897, 0.002312873768238422, 0.00223491934944853, 0.002175991579449978, 0.0021624570073993173, 0.002146284736878769, 0.0018665942054596615, 0.0015200800352988136, 0.0014746160528855247, 0.0014521555703385636, 0.0013669157532298568, 0.0013469548623728728, 0.0011958562629319788, 0.0010208516316996016, 0.0008776130224562852, 0.0008539344432359577, 0.0008022208999665074, 0.000801682159317941, 0.0005822713403825166, 0.0002878757087098075, 0.00026079455990357816, 0.00023648083780980307]\n"
     ]
    }
   ],
   "source": [
    "array = []\n",
    "for i in range(len(X_test)):\n",
    "    X_out = new_model(X_test[i].float())\n",
    "    # print(X_out)\n",
    "    Y_out= y_test[i]\n",
    "    # print(Y_out)\n",
    "    # array.append((sum((X_out - Y_out)**2)).item())\n",
    "    array.append(loss_fn(X_out, Y_out).item())\n",
    "print(sorted(array)[::-1])"
   ]
  },
  {
   "cell_type": "code",
   "execution_count": 89,
   "metadata": {},
   "outputs": [
    {
     "data": {
      "text/plain": [
       "0.02274333196497543"
      ]
     },
     "execution_count": 89,
     "metadata": {},
     "output_type": "execute_result"
    }
   ],
   "source": [
    "np.mean(array)"
   ]
  },
  {
   "cell_type": "code",
   "execution_count": null,
   "metadata": {},
   "outputs": [],
   "source": []
  },
  {
   "cell_type": "code",
   "execution_count": 21,
   "metadata": {},
   "outputs": [],
   "source": [
    "# array.sort()\n",
    "# count = 0\n",
    "# median = np.median(array)\n",
    "# for i in array:\n",
    "#     if(i > median):\n",
    "#         count += 1\n",
    "# print(count/len(array))"
   ]
  },
  {
   "cell_type": "code",
   "execution_count": null,
   "metadata": {},
   "outputs": [],
   "source": []
  }
 ],
 "metadata": {
  "kernelspec": {
   "display_name": "dpp",
   "language": "python",
   "name": "python3"
  },
  "language_info": {
   "codemirror_mode": {
    "name": "ipython",
    "version": 3
   },
   "file_extension": ".py",
   "mimetype": "text/x-python",
   "name": "python",
   "nbconvert_exporter": "python",
   "pygments_lexer": "ipython3",
   "version": "3.10.13"
  }
 },
 "nbformat": 4,
 "nbformat_minor": 2
}
