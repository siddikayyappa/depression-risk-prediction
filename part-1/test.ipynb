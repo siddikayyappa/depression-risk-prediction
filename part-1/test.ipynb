{
 "cells": [
  {
   "cell_type": "code",
   "execution_count": 1,
   "metadata": {},
   "outputs": [],
   "source": [
    "import pandas as pd\n",
    "import csv\n",
    "import pickle as pkl\n",
    "import numpy as np\n",
    "from fasttext import FastText\n",
    "import torch\n",
    "from torch.utils.data import Dataset, DataLoader, TensorDataset\n",
    "from torch import nn\n",
    "from sklearn.model_selection import train_test_split\n",
    "import matplotlib.pyplot as plt\n",
    "import datetime\n"
   ]
  },
  {
   "cell_type": "code",
   "execution_count": 2,
   "metadata": {},
   "outputs": [
    {
     "name": "stderr",
     "output_type": "stream",
     "text": [
      "Warning : `load_model` does not return WordVectorModel or SupervisedModel any more, but a `FastText` object which is very similar.\n"
     ]
    }
   ],
   "source": [
    "model = FastText.load_model('cc.en.300.bin')"
   ]
  },
  {
   "cell_type": "code",
   "execution_count": 3,
   "metadata": {},
   "outputs": [],
   "source": [
    "class Embeddings:\n",
    "    def __init__(self, model) -> None:\n",
    "        self.model = model\n",
    "    def get_embeddings(self, words):\n",
    "        return np.array([self.model.get_word_vector(i) for i in words])\n",
    "    "
   ]
  },
  {
   "cell_type": "code",
   "execution_count": null,
   "metadata": {},
   "outputs": [],
   "source": []
  },
  {
   "cell_type": "code",
   "execution_count": 4,
   "metadata": {},
   "outputs": [],
   "source": [
    "tags = pkl.load(open('./tags.pkl', 'rb'))"
   ]
  },
  {
   "cell_type": "code",
   "execution_count": 5,
   "metadata": {},
   "outputs": [],
   "source": [
    "embedding_class = Embeddings(model)\n",
    "ems = embedding_class.get_embeddings(tags[:100])"
   ]
  },
  {
   "cell_type": "code",
   "execution_count": 179,
   "metadata": {},
   "outputs": [],
   "source": [
    "anew_dataset = pd.read_csv('./anew_raw.csv')"
   ]
  },
  {
   "cell_type": "code",
   "execution_count": 237,
   "metadata": {},
   "outputs": [],
   "source": [
    "anew_dict= dict()\n",
    "words = anew_dataset['term']\n",
    "valence_ratings = anew_dataset['pleasure']\n",
    "arousal_ratings = anew_dataset['arousal']\n",
    "word_embeddings = embedding_class.get_embeddings(words)\n",
    "word_embedding_dict = dict(zip(words, word_embeddings))\n",
    "for i in range(len(words)):\n",
    "    anew_dict[words[i]] = [valence_ratings[i], arousal_ratings[i]]"
   ]
  },
  {
   "cell_type": "code",
   "execution_count": 238,
   "metadata": {},
   "outputs": [],
   "source": [
    "X = word_embeddings\n",
    "Y = np.array([anew_dict[i] for i in words])"
   ]
  },
  {
   "cell_type": "code",
   "execution_count": 239,
   "metadata": {},
   "outputs": [
    {
     "data": {
      "text/plain": [
       "array([[2.76, 5.53],\n",
       "       [3.5 , 5.39],\n",
       "       [4.26, 4.36],\n",
       "       ...,\n",
       "       [6.89, 5.64],\n",
       "       [6.75, 5.67],\n",
       "       [6.79, 5.59]])"
      ]
     },
     "execution_count": 239,
     "metadata": {},
     "output_type": "execute_result"
    }
   ],
   "source": [
    "Y"
   ]
  },
  {
   "cell_type": "code",
   "execution_count": 240,
   "metadata": {},
   "outputs": [
    {
     "data": {
      "text/plain": [
       "array([[-0.01757489,  0.00900055,  0.04521811, ..., -0.03663422,\n",
       "        -0.01874213,  0.02927855],\n",
       "       [ 0.01350051,  0.01367358,  0.04860941, ...,  0.00306123,\n",
       "         0.01319353,  0.00415528],\n",
       "       [-0.00513506,  0.0177588 ,  0.01257944, ..., -0.04399451,\n",
       "         0.01500077,  0.00711149],\n",
       "       ...,\n",
       "       [-0.04741758,  0.01749353,  0.01445963, ...,  0.00189274,\n",
       "        -0.01372969,  0.00194703],\n",
       "       [-0.03955808, -0.04955037,  0.07052619, ..., -0.01337917,\n",
       "        -0.00564315, -0.00576652],\n",
       "       [-0.04456862, -0.02361453,  0.12920032, ..., -0.02449321,\n",
       "        -0.01248372,  0.00415398]], dtype=float32)"
      ]
     },
     "execution_count": 240,
     "metadata": {},
     "output_type": "execute_result"
    }
   ],
   "source": [
    "X"
   ]
  },
  {
   "cell_type": "code",
   "execution_count": null,
   "metadata": {},
   "outputs": [],
   "source": []
  },
  {
   "cell_type": "code",
   "execution_count": 241,
   "metadata": {},
   "outputs": [],
   "source": [
    "\n",
    "Y = Y/10\n",
    "# SCaling the data -- large loss issues. "
   ]
  },
  {
   "cell_type": "code",
   "execution_count": 242,
   "metadata": {},
   "outputs": [
    {
     "data": {
      "text/plain": [
       "array([[0.276, 0.553],\n",
       "       [0.35 , 0.539],\n",
       "       [0.426, 0.436],\n",
       "       ...,\n",
       "       [0.689, 0.564],\n",
       "       [0.675, 0.567],\n",
       "       [0.679, 0.559]])"
      ]
     },
     "execution_count": 242,
     "metadata": {},
     "output_type": "execute_result"
    }
   ],
   "source": [
    "Y"
   ]
  },
  {
   "cell_type": "code",
   "execution_count": 243,
   "metadata": {},
   "outputs": [
    {
     "data": {
      "text/plain": [
       "array([[-0.01757489,  0.00900055,  0.04521811, ..., -0.03663422,\n",
       "        -0.01874213,  0.02927855],\n",
       "       [ 0.01350051,  0.01367358,  0.04860941, ...,  0.00306123,\n",
       "         0.01319353,  0.00415528],\n",
       "       [-0.00513506,  0.0177588 ,  0.01257944, ..., -0.04399451,\n",
       "         0.01500077,  0.00711149],\n",
       "       ...,\n",
       "       [-0.04741758,  0.01749353,  0.01445963, ...,  0.00189274,\n",
       "        -0.01372969,  0.00194703],\n",
       "       [-0.03955808, -0.04955037,  0.07052619, ..., -0.01337917,\n",
       "        -0.00564315, -0.00576652],\n",
       "       [-0.04456862, -0.02361453,  0.12920032, ..., -0.02449321,\n",
       "        -0.01248372,  0.00415398]], dtype=float32)"
      ]
     },
     "execution_count": 243,
     "metadata": {},
     "output_type": "execute_result"
    }
   ],
   "source": [
    "X"
   ]
  },
  {
   "cell_type": "code",
   "execution_count": null,
   "metadata": {},
   "outputs": [],
   "source": []
  },
  {
   "cell_type": "code",
   "execution_count": 244,
   "metadata": {},
   "outputs": [],
   "source": [
    "pkl.dump(X, open('X.pkl', 'wb'))\n",
    "pkl.dump(Y, open('Y.pkl', 'wb'))\n"
   ]
  },
  {
   "cell_type": "code",
   "execution_count": 245,
   "metadata": {},
   "outputs": [],
   "source": [
    "X_train, X_test, y_train, y_test = train_test_split(X, Y, test_size=0.2, random_state=42)"
   ]
  },
  {
   "cell_type": "code",
   "execution_count": 246,
   "metadata": {},
   "outputs": [],
   "source": [
    "X_train = torch.tensor(X_train)\n",
    "X_test = torch.tensor(X_test)\n",
    "y_train = torch.tensor(y_train)\n",
    "y_test = torch.tensor(y_test)\n",
    "test_dataset = TensorDataset(X_test, y_test)\n",
    "train_dataset = TensorDataset(X_train, y_train)\n",
    "train_loader = DataLoader(train_dataset, batch_size=16, shuffle=True)\n",
    "test_loader = DataLoader(test_dataset, batch_size=16, shuffle=True)"
   ]
  },
  {
   "cell_type": "code",
   "execution_count": 247,
   "metadata": {},
   "outputs": [],
   "source": [
    "device = (\n",
    "    \"cuda\"\n",
    "    if torch.cuda.is_available()\n",
    "    else \"cpu\"\n",
    ")"
   ]
  },
  {
   "cell_type": "code",
   "execution_count": 248,
   "metadata": {},
   "outputs": [
    {
     "data": {
      "text/plain": [
       "'cpu'"
      ]
     },
     "execution_count": 248,
     "metadata": {},
     "output_type": "execute_result"
    }
   ],
   "source": [
    "device"
   ]
  },
  {
   "cell_type": "code",
   "execution_count": null,
   "metadata": {},
   "outputs": [],
   "source": []
  },
  {
   "cell_type": "code",
   "execution_count": 312,
   "metadata": {},
   "outputs": [],
   "source": [
    "class NetworkModel(nn.Module):\n",
    "    def __init__(self) -> None:\n",
    "        super().__init__()\n",
    "        self.input = nn.Linear(300, 150)\n",
    "        self.linear_stack = nn.Sequential(\n",
    "            nn.Dropout(0.5),\n",
    "            nn.ReLU(),\n",
    "            nn.Linear(150, 100),\n",
    "            nn.Dropout(0.5),\n",
    "            nn.ReLU(),\n",
    "            nn.Linear(100, 50),\n",
    "            nn.Dropout(0.5),\n",
    "            nn.ReLU(),\n",
    "            nn.Linear(50, 25),\n",
    "            nn.Dropout(0.3),\n",
    "            nn.ReLU(),\n",
    "            nn.Linear(25, 10),\n",
    "            nn.Dropout(0.3),\n",
    "            nn.ReLU(),\n",
    "            nn.Linear(10, 5),\n",
    "            nn.ReLU(),\n",
    "        )\n",
    "        self.output = nn.Linear(5, 2)\n",
    "\n",
    "    def forward(self, x):\n",
    "        x = self.input(x)\n",
    "        x = self.linear_stack(x)\n",
    "        x = self.output(x)\n",
    "        return x\n",
    "\n"
   ]
  },
  {
   "cell_type": "code",
   "execution_count": 341,
   "metadata": {},
   "outputs": [
    {
     "name": "stdout",
     "output_type": "stream",
     "text": [
      "Epoch 0, Training Loss: 0.08247721940279007, Test Loss: 0.15474167466163635\n",
      "Epoch 1, Training Loss: 0.10086717456579208, Test Loss: 0.13925370573997498\n",
      "Epoch 2, Training Loss: 0.09681010991334915, Test Loss: 0.12486376613378525\n",
      "Epoch 3, Training Loss: 0.05952098220586777, Test Loss: 0.07109411805868149\n",
      "Epoch 4, Training Loss: 0.09877323359251022, Test Loss: 0.08328612148761749\n",
      "Epoch 5, Training Loss: 0.08130630105733871, Test Loss: 0.05815046280622482\n",
      "Epoch 6, Training Loss: 0.060287538915872574, Test Loss: 0.06814728677272797\n",
      "Epoch 7, Training Loss: 0.04370872676372528, Test Loss: 0.05569403991103172\n",
      "Epoch 8, Training Loss: 0.061937104910612106, Test Loss: 0.04260099679231644\n",
      "Epoch 9, Training Loss: 0.05423693731427193, Test Loss: 0.04604612663388252\n",
      "Epoch 10, Training Loss: 0.059309206902980804, Test Loss: 0.04970502853393555\n",
      "Epoch 11, Training Loss: 0.027653364464640617, Test Loss: 0.05785840377211571\n",
      "Epoch 12, Training Loss: 0.03526408225297928, Test Loss: 0.0643867626786232\n",
      "Epoch 13, Training Loss: 0.051061250269412994, Test Loss: 0.039462972432374954\n",
      "Epoch 14, Training Loss: 0.05561354011297226, Test Loss: 0.045756783336400986\n",
      "Epoch 15, Training Loss: 0.057223811745643616, Test Loss: 0.05455204099416733\n",
      "Epoch 16, Training Loss: 0.037833478301763535, Test Loss: 0.03330117091536522\n",
      "Epoch 17, Training Loss: 0.04365077242255211, Test Loss: 0.05733820050954819\n",
      "Epoch 18, Training Loss: 0.056051965802907944, Test Loss: 0.03380274772644043\n",
      "Epoch 19, Training Loss: 0.06930667906999588, Test Loss: 0.030541038140654564\n",
      "Epoch 20, Training Loss: 0.043930962681770325, Test Loss: 0.052974116057157516\n",
      "Epoch 21, Training Loss: 0.026146292686462402, Test Loss: 0.047081850469112396\n",
      "Epoch 22, Training Loss: 0.036220286041498184, Test Loss: 0.03649367392063141\n",
      "Epoch 23, Training Loss: 0.03765258565545082, Test Loss: 0.034786079078912735\n",
      "Epoch 24, Training Loss: 0.02239028736948967, Test Loss: 0.042894475162029266\n",
      "Epoch 25, Training Loss: 0.04450509324669838, Test Loss: 0.032078489661216736\n",
      "Epoch 26, Training Loss: 0.03991694748401642, Test Loss: 0.03268440440297127\n",
      "Epoch 27, Training Loss: 0.023227863013744354, Test Loss: 0.04020082578063011\n",
      "Epoch 28, Training Loss: 0.04583416134119034, Test Loss: 0.04041241854429245\n",
      "Epoch 29, Training Loss: 0.017841311171650887, Test Loss: 0.024929475039243698\n",
      "Epoch 30, Training Loss: 0.032977961003780365, Test Loss: 0.030913209542632103\n",
      "Epoch 31, Training Loss: 0.036321673542261124, Test Loss: 0.03857974335551262\n",
      "Epoch 32, Training Loss: 0.022512389346957207, Test Loss: 0.02803793177008629\n",
      "Epoch 33, Training Loss: 0.017286691814661026, Test Loss: 0.02823765017092228\n",
      "Epoch 34, Training Loss: 0.02703268453478813, Test Loss: 0.043439678847789764\n",
      "Epoch 35, Training Loss: 0.02845514379441738, Test Loss: 0.05169573053717613\n",
      "Epoch 36, Training Loss: 0.0354745090007782, Test Loss: 0.030192753300070763\n",
      "Epoch 37, Training Loss: 0.03188519552350044, Test Loss: 0.031313274055719376\n",
      "Epoch 38, Training Loss: 0.04062061756849289, Test Loss: 0.030669141560792923\n",
      "Epoch 39, Training Loss: 0.04127950966358185, Test Loss: 0.022415826097130775\n",
      "Epoch 40, Training Loss: 0.025546634569764137, Test Loss: 0.032232727855443954\n",
      "Epoch 41, Training Loss: 0.043235503137111664, Test Loss: 0.031655799597501755\n",
      "Epoch 42, Training Loss: 0.033668145537376404, Test Loss: 0.027298709377646446\n",
      "Epoch 43, Training Loss: 0.032348714768886566, Test Loss: 0.0293866116553545\n",
      "Epoch 44, Training Loss: 0.027127886191010475, Test Loss: 0.03288639336824417\n",
      "Epoch 45, Training Loss: 0.03207029774785042, Test Loss: 0.035659052431583405\n",
      "Epoch 46, Training Loss: 0.025050165131688118, Test Loss: 0.02329680509865284\n",
      "Epoch 47, Training Loss: 0.027819497510790825, Test Loss: 0.01628701575100422\n",
      "Epoch 48, Training Loss: 0.025690507143735886, Test Loss: 0.03000754863023758\n",
      "Epoch 49, Training Loss: 0.027452850714325905, Test Loss: 0.026022175326943398\n",
      "Epoch 50, Training Loss: 0.03315749391913414, Test Loss: 0.020271236076951027\n",
      "Epoch 51, Training Loss: 0.020729102194309235, Test Loss: 0.026529209688305855\n",
      "Epoch 52, Training Loss: 0.03874842822551727, Test Loss: 0.030938895419239998\n",
      "Epoch 53, Training Loss: 0.026723230257630348, Test Loss: 0.02700112946331501\n",
      "Epoch 54, Training Loss: 0.021756093949079514, Test Loss: 0.022349059581756592\n",
      "Epoch 55, Training Loss: 0.03177937492728233, Test Loss: 0.020273424685001373\n",
      "Epoch 56, Training Loss: 0.024439744651317596, Test Loss: 0.022475477308034897\n",
      "Epoch 57, Training Loss: 0.023148024454712868, Test Loss: 0.021407874301075935\n",
      "Epoch 58, Training Loss: 0.036912355571985245, Test Loss: 0.03225379064679146\n",
      "Epoch 59, Training Loss: 0.024466603994369507, Test Loss: 0.02054951712489128\n",
      "Epoch 60, Training Loss: 0.02131040021777153, Test Loss: 0.014676934108138084\n",
      "Epoch 61, Training Loss: 0.025618962943553925, Test Loss: 0.009434369392693043\n",
      "Epoch 62, Training Loss: 0.020031942054629326, Test Loss: 0.026256412267684937\n",
      "Epoch 63, Training Loss: 0.02596461772918701, Test Loss: 0.019176123663783073\n",
      "Epoch 64, Training Loss: 0.050255730748176575, Test Loss: 0.018481861799955368\n",
      "Epoch 65, Training Loss: 0.020474914461374283, Test Loss: 0.026156222447752953\n",
      "Epoch 66, Training Loss: 0.023974157869815826, Test Loss: 0.02591625042259693\n",
      "Epoch 67, Training Loss: 0.02272011525928974, Test Loss: 0.025577731430530548\n",
      "Epoch 68, Training Loss: 0.026724182069301605, Test Loss: 0.021699000149965286\n",
      "Epoch 69, Training Loss: 0.012614118866622448, Test Loss: 0.016884274780750275\n",
      "Epoch 70, Training Loss: 0.03160588815808296, Test Loss: 0.023071514442563057\n",
      "Epoch 71, Training Loss: 0.021819066256284714, Test Loss: 0.035158853977918625\n",
      "Epoch 72, Training Loss: 0.02192818932235241, Test Loss: 0.01877717860043049\n",
      "Epoch 73, Training Loss: 0.02316114865243435, Test Loss: 0.026287658140063286\n",
      "Epoch 74, Training Loss: 0.02973785810172558, Test Loss: 0.014871537685394287\n",
      "Epoch 75, Training Loss: 0.0256289541721344, Test Loss: 0.030423898249864578\n",
      "Epoch 76, Training Loss: 0.030483506619930267, Test Loss: 0.020508263260126114\n",
      "Epoch 77, Training Loss: 0.01821514219045639, Test Loss: 0.02011144906282425\n",
      "Epoch 78, Training Loss: 0.022460825741291046, Test Loss: 0.026188556104898453\n",
      "Epoch 79, Training Loss: 0.028690863400697708, Test Loss: 0.02451324090361595\n",
      "Epoch 80, Training Loss: 0.02889052778482437, Test Loss: 0.024347491562366486\n",
      "Epoch 81, Training Loss: 0.015933038666844368, Test Loss: 0.012595515698194504\n",
      "Epoch 82, Training Loss: 0.027150137349963188, Test Loss: 0.01917407102882862\n",
      "Epoch 83, Training Loss: 0.022347206249833107, Test Loss: 0.01879020594060421\n",
      "Epoch 84, Training Loss: 0.03296733275055885, Test Loss: 0.01871681585907936\n",
      "Epoch 85, Training Loss: 0.02247326821088791, Test Loss: 0.026630839332938194\n",
      "Epoch 86, Training Loss: 0.024827707558870316, Test Loss: 0.018496574833989143\n",
      "Epoch 87, Training Loss: 0.019513100385665894, Test Loss: 0.016740169376134872\n",
      "Epoch 88, Training Loss: 0.017887404188513756, Test Loss: 0.015184235759079456\n",
      "Epoch 89, Training Loss: 0.02861115336418152, Test Loss: 0.0250984039157629\n",
      "Epoch 90, Training Loss: 0.021620361134409904, Test Loss: 0.027877025306224823\n",
      "Epoch 91, Training Loss: 0.023315679281949997, Test Loss: 0.030993590131402016\n",
      "Epoch 92, Training Loss: 0.015602805651724339, Test Loss: 0.0320434644818306\n",
      "Epoch 93, Training Loss: 0.020557254552841187, Test Loss: 0.02251223661005497\n",
      "Epoch 94, Training Loss: 0.020515790209174156, Test Loss: 0.018143197521567345\n",
      "Epoch 95, Training Loss: 0.013760045170783997, Test Loss: 0.023598888888955116\n",
      "Epoch 96, Training Loss: 0.021437758579850197, Test Loss: 0.0237406138330698\n",
      "Epoch 97, Training Loss: 0.02181985229253769, Test Loss: 0.01915489323437214\n",
      "Epoch 98, Training Loss: 0.028779441490769386, Test Loss: 0.01753455400466919\n",
      "Epoch 99, Training Loss: 0.022272737696766853, Test Loss: 0.032465968281030655\n",
      "Epoch 100, Training Loss: 0.016967525705695152, Test Loss: 0.018790297210216522\n",
      "Epoch 101, Training Loss: 0.013904720544815063, Test Loss: 0.017023427411913872\n",
      "Epoch 102, Training Loss: 0.026070265099406242, Test Loss: 0.021344643086194992\n",
      "Epoch 103, Training Loss: 0.02030162699520588, Test Loss: 0.022055141627788544\n",
      "Epoch 104, Training Loss: 0.011005226522684097, Test Loss: 0.015675466507673264\n",
      "Epoch 105, Training Loss: 0.01793166622519493, Test Loss: 0.01802840083837509\n",
      "Epoch 106, Training Loss: 0.013397217728197575, Test Loss: 0.031574398279190063\n",
      "Epoch 107, Training Loss: 0.02523035556077957, Test Loss: 0.019721170887351036\n",
      "Epoch 108, Training Loss: 0.012379108928143978, Test Loss: 0.023021532222628593\n",
      "Epoch 109, Training Loss: 0.021382980048656464, Test Loss: 0.023344261571764946\n",
      "Epoch 110, Training Loss: 0.024393143132328987, Test Loss: 0.026481617242097855\n",
      "Epoch 111, Training Loss: 0.019564751535654068, Test Loss: 0.022949563339352608\n",
      "Epoch 112, Training Loss: 0.020340321585536003, Test Loss: 0.022593965753912926\n",
      "Epoch 113, Training Loss: 0.015104287303984165, Test Loss: 0.017350289970636368\n",
      "Epoch 114, Training Loss: 0.01945270225405693, Test Loss: 0.019343316555023193\n",
      "Epoch 115, Training Loss: 0.01672651432454586, Test Loss: 0.028835197910666466\n",
      "Epoch 116, Training Loss: 0.019416822120547295, Test Loss: 0.013869469054043293\n",
      "Epoch 117, Training Loss: 0.025860635563731194, Test Loss: 0.028128743171691895\n",
      "Epoch 118, Training Loss: 0.01745971105992794, Test Loss: 0.023997962474822998\n",
      "Epoch 119, Training Loss: 0.01770118437707424, Test Loss: 0.011097739450633526\n",
      "Epoch 120, Training Loss: 0.015984224155545235, Test Loss: 0.02330421842634678\n",
      "Epoch 121, Training Loss: 0.028192395344376564, Test Loss: 0.01827351190149784\n",
      "Epoch 122, Training Loss: 0.014205441810190678, Test Loss: 0.017054686322808266\n",
      "Epoch 123, Training Loss: 0.024976767599582672, Test Loss: 0.01884198561310768\n",
      "Epoch 124, Training Loss: 0.020181944593787193, Test Loss: 0.016697993502020836\n",
      "Epoch 125, Training Loss: 0.012771881185472012, Test Loss: 0.01334440615028143\n",
      "Epoch 126, Training Loss: 0.024436617270112038, Test Loss: 0.0232258178293705\n",
      "Epoch 127, Training Loss: 0.022860320284962654, Test Loss: 0.023332299664616585\n",
      "Epoch 128, Training Loss: 0.017313944175839424, Test Loss: 0.018591368570923805\n",
      "Epoch 129, Training Loss: 0.02374202013015747, Test Loss: 0.02435028925538063\n",
      "Epoch 130, Training Loss: 0.0226126741617918, Test Loss: 0.016912367194890976\n",
      "Epoch 131, Training Loss: 0.010499936528503895, Test Loss: 0.020611820742487907\n",
      "Epoch 132, Training Loss: 0.03088284097611904, Test Loss: 0.02635912410914898\n",
      "Epoch 133, Training Loss: 0.013683903031051159, Test Loss: 0.012380034662783146\n",
      "Epoch 134, Training Loss: 0.020963197574019432, Test Loss: 0.01719784364104271\n",
      "Epoch 135, Training Loss: 0.015227175317704678, Test Loss: 0.016622889786958694\n",
      "Epoch 136, Training Loss: 0.016229864209890366, Test Loss: 0.02157222107052803\n",
      "Epoch 137, Training Loss: 0.02883673459291458, Test Loss: 0.023078294470906258\n",
      "Epoch 138, Training Loss: 0.023376761004328728, Test Loss: 0.014716287143528461\n",
      "Epoch 139, Training Loss: 0.023942256346344948, Test Loss: 0.013966541737318039\n",
      "Epoch 140, Training Loss: 0.011726710014045238, Test Loss: 0.019832057878375053\n",
      "Epoch 141, Training Loss: 0.0220719613134861, Test Loss: 0.013561946339905262\n",
      "Epoch 142, Training Loss: 0.023262549191713333, Test Loss: 0.02540394850075245\n",
      "Epoch 143, Training Loss: 0.013981160707771778, Test Loss: 0.014951053075492382\n",
      "Epoch 144, Training Loss: 0.03515182435512543, Test Loss: 0.013857778161764145\n",
      "Epoch 145, Training Loss: 0.02572038024663925, Test Loss: 0.015276285819709301\n",
      "Epoch 146, Training Loss: 0.016670098528265953, Test Loss: 0.014654911123216152\n",
      "Epoch 147, Training Loss: 0.009138083085417747, Test Loss: 0.014787575230002403\n",
      "Epoch 148, Training Loss: 0.012711071409285069, Test Loss: 0.01908428594470024\n",
      "Epoch 149, Training Loss: 0.009697699919342995, Test Loss: 0.0164552703499794\n",
      "Epoch 150, Training Loss: 0.011232215911149979, Test Loss: 0.013419711031019688\n",
      "Epoch 151, Training Loss: 0.01256316527724266, Test Loss: 0.011962199583649635\n",
      "Epoch 152, Training Loss: 0.016975436359643936, Test Loss: 0.019090009853243828\n",
      "Epoch 153, Training Loss: 0.01956787519156933, Test Loss: 0.012073609977960587\n",
      "Epoch 154, Training Loss: 0.0235463697463274, Test Loss: 0.04423588141798973\n",
      "Epoch 155, Training Loss: 0.018499137833714485, Test Loss: 0.018514208495616913\n",
      "Epoch 156, Training Loss: 0.01665748842060566, Test Loss: 0.017981434240937233\n",
      "Epoch 157, Training Loss: 0.017464514821767807, Test Loss: 0.014507154002785683\n",
      "Epoch 158, Training Loss: 0.027930956333875656, Test Loss: 0.01939750649034977\n",
      "Epoch 159, Training Loss: 0.016124093905091286, Test Loss: 0.019404064863920212\n",
      "Epoch 160, Training Loss: 0.027099942788481712, Test Loss: 0.02007383666932583\n",
      "Epoch 161, Training Loss: 0.022901391610503197, Test Loss: 0.01638038083910942\n",
      "Epoch 162, Training Loss: 0.011395519599318504, Test Loss: 0.027320386841893196\n",
      "Epoch 163, Training Loss: 0.016898535192012787, Test Loss: 0.01717108115553856\n",
      "Epoch 164, Training Loss: 0.02007289230823517, Test Loss: 0.022606410086154938\n",
      "Epoch 165, Training Loss: 0.009126345627009869, Test Loss: 0.024557162076234818\n",
      "Epoch 166, Training Loss: 0.020285265520215034, Test Loss: 0.01207283977419138\n",
      "Epoch 167, Training Loss: 0.01576954685151577, Test Loss: 0.01006994117051363\n",
      "Epoch 168, Training Loss: 0.014851609244942665, Test Loss: 0.012131811119616032\n",
      "Epoch 169, Training Loss: 0.013496353290975094, Test Loss: 0.024411562830209732\n",
      "Epoch 170, Training Loss: 0.01266187708824873, Test Loss: 0.016023147851228714\n",
      "Epoch 171, Training Loss: 0.02137787826359272, Test Loss: 0.012274567037820816\n",
      "Epoch 172, Training Loss: 0.017964540049433708, Test Loss: 0.017272064462304115\n",
      "Epoch 173, Training Loss: 0.020155666396021843, Test Loss: 0.014426656998693943\n",
      "Epoch 174, Training Loss: 0.021856753155589104, Test Loss: 0.023316284641623497\n",
      "Epoch 175, Training Loss: 0.01731342263519764, Test Loss: 0.014127085916697979\n",
      "Epoch 176, Training Loss: 0.016150442883372307, Test Loss: 0.020951367914676666\n",
      "Epoch 177, Training Loss: 0.014355957508087158, Test Loss: 0.016964703798294067\n",
      "Epoch 178, Training Loss: 0.02080070786178112, Test Loss: 0.01703951507806778\n",
      "Epoch 179, Training Loss: 0.02201596088707447, Test Loss: 0.01296719815582037\n",
      "Epoch 180, Training Loss: 0.008222034201025963, Test Loss: 0.01696932315826416\n",
      "Epoch 181, Training Loss: 0.016997698694467545, Test Loss: 0.017098497599363327\n",
      "Epoch 182, Training Loss: 0.02478635311126709, Test Loss: 0.01867658831179142\n",
      "Epoch 183, Training Loss: 0.013517904095351696, Test Loss: 0.01970347948372364\n",
      "Epoch 184, Training Loss: 0.022698791697621346, Test Loss: 0.019986338913440704\n",
      "Epoch 185, Training Loss: 0.02302730269730091, Test Loss: 0.016544202342629433\n",
      "Epoch 186, Training Loss: 0.015151171945035458, Test Loss: 0.018415121361613274\n",
      "Epoch 187, Training Loss: 0.015047543682157993, Test Loss: 0.019389480352401733\n",
      "Epoch 188, Training Loss: 0.012714678421616554, Test Loss: 0.021891692653298378\n",
      "Epoch 189, Training Loss: 0.012814589776098728, Test Loss: 0.008209477178752422\n",
      "Epoch 190, Training Loss: 0.024250252172350883, Test Loss: 0.01989935152232647\n",
      "Epoch 191, Training Loss: 0.022975631058216095, Test Loss: 0.018113555386662483\n",
      "Epoch 192, Training Loss: 0.021565411239862442, Test Loss: 0.013918457552790642\n",
      "Epoch 193, Training Loss: 0.017612943425774574, Test Loss: 0.017420746386051178\n",
      "Epoch 194, Training Loss: 0.014772346243262291, Test Loss: 0.017740292474627495\n",
      "Epoch 195, Training Loss: 0.034692976623773575, Test Loss: 0.014769090339541435\n",
      "Epoch 196, Training Loss: 0.022623511031270027, Test Loss: 0.02001306042075157\n",
      "Epoch 197, Training Loss: 0.01681162603199482, Test Loss: 0.011034009046852589\n",
      "Epoch 198, Training Loss: 0.01726705953478813, Test Loss: 0.014602983370423317\n",
      "Epoch 199, Training Loss: 0.020467106252908707, Test Loss: 0.019954318180680275\n",
      "Epoch 200, Training Loss: 0.023501813411712646, Test Loss: 0.017766226083040237\n",
      "Epoch 201, Training Loss: 0.011000803671777248, Test Loss: 0.012405390851199627\n",
      "Epoch 202, Training Loss: 0.021064212545752525, Test Loss: 0.011993464082479477\n",
      "Epoch 203, Training Loss: 0.02461765892803669, Test Loss: 0.020750215277075768\n",
      "Epoch 204, Training Loss: 0.021453719586133957, Test Loss: 0.014315751381218433\n",
      "Epoch 205, Training Loss: 0.01688709668815136, Test Loss: 0.01719335839152336\n",
      "Epoch 206, Training Loss: 0.02644229121506214, Test Loss: 0.0145944245159626\n",
      "Epoch 207, Training Loss: 0.029172463342547417, Test Loss: 0.01587585173547268\n",
      "Epoch 208, Training Loss: 0.013965399004518986, Test Loss: 0.014133425429463387\n",
      "Epoch 209, Training Loss: 0.025056185200810432, Test Loss: 0.01384825725108385\n",
      "Epoch 210, Training Loss: 0.013261266984045506, Test Loss: 0.013221011497080326\n",
      "Epoch 211, Training Loss: 0.01520477794110775, Test Loss: 0.015124757774174213\n",
      "Epoch 212, Training Loss: 0.021988242864608765, Test Loss: 0.021891819313168526\n",
      "Epoch 213, Training Loss: 0.011289647780358791, Test Loss: 0.01501702331006527\n",
      "Epoch 214, Training Loss: 0.01215776801109314, Test Loss: 0.017556725069880486\n",
      "Epoch 215, Training Loss: 0.01482163742184639, Test Loss: 0.02069735713303089\n",
      "Epoch 216, Training Loss: 0.01493618730455637, Test Loss: 0.015757137909531593\n",
      "Epoch 217, Training Loss: 0.01687765121459961, Test Loss: 0.014655113220214844\n",
      "Epoch 218, Training Loss: 0.02784442901611328, Test Loss: 0.014517305418848991\n",
      "Epoch 219, Training Loss: 0.014299615286290646, Test Loss: 0.02118978276848793\n",
      "Epoch 220, Training Loss: 0.02168603055179119, Test Loss: 0.021185126155614853\n",
      "Epoch 221, Training Loss: 0.01018862146884203, Test Loss: 0.017403848469257355\n",
      "Epoch 222, Training Loss: 0.012940820306539536, Test Loss: 0.01591409184038639\n",
      "Epoch 223, Training Loss: 0.02028042823076248, Test Loss: 0.011135299690067768\n",
      "Epoch 224, Training Loss: 0.0205786544829607, Test Loss: 0.029704760760068893\n",
      "Epoch 225, Training Loss: 0.015012291260063648, Test Loss: 0.023300742730498314\n",
      "Epoch 226, Training Loss: 0.01925632543861866, Test Loss: 0.012470652349293232\n",
      "Epoch 227, Training Loss: 0.015208173543214798, Test Loss: 0.015607965178787708\n",
      "Epoch 228, Training Loss: 0.025756608694791794, Test Loss: 0.015616358257830143\n",
      "Epoch 229, Training Loss: 0.019539128988981247, Test Loss: 0.0143449567258358\n",
      "Epoch 230, Training Loss: 0.01653117500245571, Test Loss: 0.01805195026099682\n",
      "Epoch 231, Training Loss: 0.015055831521749496, Test Loss: 0.02374296262860298\n",
      "Epoch 232, Training Loss: 0.016582941636443138, Test Loss: 0.013627003878355026\n",
      "Epoch 233, Training Loss: 0.018042299896478653, Test Loss: 0.012836502864956856\n",
      "Epoch 234, Training Loss: 0.008852224797010422, Test Loss: 0.015599315986037254\n",
      "Epoch 235, Training Loss: 0.020368050783872604, Test Loss: 0.015654774382710457\n",
      "Epoch 236, Training Loss: 0.013970346190035343, Test Loss: 0.01874012127518654\n",
      "Epoch 237, Training Loss: 0.02024003677070141, Test Loss: 0.009031275287270546\n",
      "Epoch 238, Training Loss: 0.01656758040189743, Test Loss: 0.013296617195010185\n",
      "Epoch 239, Training Loss: 0.015910303220152855, Test Loss: 0.02366674318909645\n",
      "Epoch 240, Training Loss: 0.014206296764314175, Test Loss: 0.014886240474879742\n",
      "Epoch 241, Training Loss: 0.008485550992190838, Test Loss: 0.015804123133420944\n",
      "Epoch 242, Training Loss: 0.016656292602419853, Test Loss: 0.016177233308553696\n",
      "Epoch 243, Training Loss: 0.015850799158215523, Test Loss: 0.012687712907791138\n",
      "Epoch 244, Training Loss: 0.012778026051819324, Test Loss: 0.017016584053635597\n",
      "Epoch 245, Training Loss: 0.021804774180054665, Test Loss: 0.028366781771183014\n",
      "Epoch 246, Training Loss: 0.024185456335544586, Test Loss: 0.01809708960354328\n",
      "Epoch 247, Training Loss: 0.015452748164534569, Test Loss: 0.01809290610253811\n",
      "Epoch 248, Training Loss: 0.015515335835516453, Test Loss: 0.014177036471664906\n",
      "Epoch 249, Training Loss: 0.010234448127448559, Test Loss: 0.02260103076696396\n",
      "Epoch 250, Training Loss: 0.011537523008883, Test Loss: 0.01531966682523489\n",
      "Epoch 251, Training Loss: 0.011394258588552475, Test Loss: 0.014917286112904549\n",
      "Epoch 252, Training Loss: 0.0207716953009367, Test Loss: 0.012251895852386951\n",
      "Epoch 253, Training Loss: 0.008213605731725693, Test Loss: 0.018321026116609573\n",
      "Epoch 254, Training Loss: 0.013109101913869381, Test Loss: 0.012362688779830933\n",
      "Epoch 255, Training Loss: 0.00974240805953741, Test Loss: 0.012840456329286098\n",
      "Epoch 256, Training Loss: 0.014945011585950851, Test Loss: 0.015367780812084675\n",
      "Epoch 257, Training Loss: 0.01945679821074009, Test Loss: 0.014759956859052181\n",
      "Epoch 258, Training Loss: 0.02445361763238907, Test Loss: 0.01683986559510231\n",
      "Epoch 259, Training Loss: 0.012143680825829506, Test Loss: 0.017289509996771812\n",
      "Epoch 260, Training Loss: 0.011984307318925858, Test Loss: 0.01876153238117695\n",
      "Epoch 261, Training Loss: 0.022675832733511925, Test Loss: 0.012971854768693447\n",
      "Epoch 262, Training Loss: 0.01670563407242298, Test Loss: 0.012839709408581257\n",
      "Epoch 263, Training Loss: 0.01326737180352211, Test Loss: 0.014311011880636215\n",
      "Epoch 264, Training Loss: 0.01670939475297928, Test Loss: 0.022823724895715714\n",
      "Epoch 265, Training Loss: 0.01932462677359581, Test Loss: 0.006836290005594492\n",
      "Epoch 266, Training Loss: 0.015058320946991444, Test Loss: 0.021156247705221176\n",
      "Epoch 267, Training Loss: 0.010617061518132687, Test Loss: 0.018210887908935547\n",
      "Epoch 268, Training Loss: 0.011066914536058903, Test Loss: 0.021145688369870186\n",
      "Epoch 269, Training Loss: 0.01171165332198143, Test Loss: 0.01848793216049671\n",
      "Epoch 270, Training Loss: 0.00942588597536087, Test Loss: 0.023239048197865486\n",
      "Epoch 271, Training Loss: 0.02211640402674675, Test Loss: 0.013016125187277794\n",
      "Epoch 272, Training Loss: 0.010175853967666626, Test Loss: 0.022846408188343048\n",
      "Epoch 273, Training Loss: 0.013529718853533268, Test Loss: 0.019195284694433212\n",
      "Epoch 274, Training Loss: 0.023021578788757324, Test Loss: 0.015744248405098915\n",
      "Epoch 275, Training Loss: 0.007040091324597597, Test Loss: 0.017650509253144264\n",
      "Epoch 276, Training Loss: 0.01692529208958149, Test Loss: 0.013191594742238522\n",
      "Epoch 277, Training Loss: 0.02297421544790268, Test Loss: 0.017165955156087875\n",
      "Epoch 278, Training Loss: 0.01962330937385559, Test Loss: 0.012331201694905758\n",
      "Epoch 279, Training Loss: 0.02024346962571144, Test Loss: 0.01736602559685707\n",
      "Epoch 280, Training Loss: 0.014406233094632626, Test Loss: 0.011689316481351852\n",
      "Epoch 281, Training Loss: 0.023768384009599686, Test Loss: 0.01807587780058384\n",
      "Epoch 282, Training Loss: 0.015592938289046288, Test Loss: 0.019980214536190033\n",
      "Epoch 283, Training Loss: 0.01906246691942215, Test Loss: 0.013274946250021458\n",
      "Epoch 284, Training Loss: 0.0215142834931612, Test Loss: 0.015571922063827515\n",
      "Epoch 285, Training Loss: 0.006772592663764954, Test Loss: 0.012463593855500221\n",
      "Epoch 286, Training Loss: 0.010424572043120861, Test Loss: 0.020485620945692062\n",
      "Epoch 287, Training Loss: 0.01306068990379572, Test Loss: 0.01898212544620037\n",
      "Epoch 288, Training Loss: 0.010270815342664719, Test Loss: 0.01663200370967388\n",
      "Epoch 289, Training Loss: 0.014426205307245255, Test Loss: 0.02165091037750244\n",
      "Epoch 290, Training Loss: 0.016909977421164513, Test Loss: 0.01653958670794964\n",
      "Epoch 291, Training Loss: 0.03202401101589203, Test Loss: 0.016908852383494377\n",
      "Epoch 292, Training Loss: 0.015176541171967983, Test Loss: 0.024792376905679703\n",
      "Epoch 293, Training Loss: 0.010322057642042637, Test Loss: 0.0192191693931818\n",
      "Epoch 294, Training Loss: 0.017589185386896133, Test Loss: 0.011639327742159367\n",
      "Epoch 295, Training Loss: 0.020870666950941086, Test Loss: 0.010652655735611916\n",
      "Epoch 296, Training Loss: 0.015258059836924076, Test Loss: 0.023861760273575783\n",
      "Epoch 297, Training Loss: 0.022159365937113762, Test Loss: 0.012983358465135098\n",
      "Epoch 298, Training Loss: 0.019167941063642502, Test Loss: 0.022301150485873222\n",
      "Epoch 299, Training Loss: 0.007688924204558134, Test Loss: 0.015422257594764233\n",
      "Epoch 300, Training Loss: 0.0178137868642807, Test Loss: 0.012729198671877384\n",
      "Epoch 301, Training Loss: 0.017132891342043877, Test Loss: 0.016339821740984917\n",
      "Epoch 302, Training Loss: 0.013822638429701328, Test Loss: 0.013657103292644024\n",
      "Epoch 303, Training Loss: 0.01705433614552021, Test Loss: 0.018159056082367897\n",
      "Epoch 304, Training Loss: 0.011302970349788666, Test Loss: 0.019177976995706558\n",
      "Epoch 305, Training Loss: 0.013990822248160839, Test Loss: 0.018163468688726425\n",
      "Epoch 306, Training Loss: 0.014349398203194141, Test Loss: 0.01720193214714527\n",
      "Epoch 307, Training Loss: 0.01225399412214756, Test Loss: 0.01291559636592865\n",
      "Epoch 308, Training Loss: 0.01812313310801983, Test Loss: 0.011803271248936653\n",
      "Epoch 309, Training Loss: 0.022552693262696266, Test Loss: 0.01645209826529026\n",
      "Epoch 310, Training Loss: 0.013563442975282669, Test Loss: 0.01227091159671545\n",
      "Epoch 311, Training Loss: 0.013705152086913586, Test Loss: 0.018485719338059425\n",
      "Epoch 312, Training Loss: 0.010038631968200207, Test Loss: 0.01785106025636196\n",
      "Epoch 313, Training Loss: 0.009513085708022118, Test Loss: 0.015323842875659466\n",
      "Epoch 314, Training Loss: 0.02303091250360012, Test Loss: 0.013649726286530495\n",
      "Epoch 315, Training Loss: 0.019337328150868416, Test Loss: 0.015277307480573654\n",
      "Epoch 316, Training Loss: 0.014992780052125454, Test Loss: 0.01696333847939968\n",
      "Epoch 317, Training Loss: 0.010014764964580536, Test Loss: 0.016599508002400398\n",
      "Epoch 318, Training Loss: 0.020624196156859398, Test Loss: 0.015471722930669785\n",
      "Epoch 319, Training Loss: 0.016797328367829323, Test Loss: 0.015922056511044502\n",
      "Epoch 320, Training Loss: 0.013901195488870144, Test Loss: 0.012691322714090347\n",
      "Epoch 321, Training Loss: 0.018438339233398438, Test Loss: 0.01200771052390337\n",
      "Epoch 322, Training Loss: 0.012429893016815186, Test Loss: 0.01725141890347004\n",
      "Epoch 323, Training Loss: 0.017802612856030464, Test Loss: 0.01226492878049612\n",
      "Epoch 324, Training Loss: 0.024684946984052658, Test Loss: 0.016263579949736595\n",
      "Epoch 325, Training Loss: 0.011388358660042286, Test Loss: 0.014019282534718513\n",
      "Epoch 326, Training Loss: 0.009606806561350822, Test Loss: 0.019896559417247772\n",
      "Epoch 327, Training Loss: 0.01900782436132431, Test Loss: 0.015677226707339287\n",
      "Epoch 328, Training Loss: 0.010256695561110973, Test Loss: 0.016993291676044464\n",
      "Epoch 329, Training Loss: 0.01449858583509922, Test Loss: 0.017362970858812332\n",
      "Epoch 330, Training Loss: 0.014627507887780666, Test Loss: 0.015231774188578129\n",
      "Epoch 331, Training Loss: 0.009031945839524269, Test Loss: 0.017628366127610207\n",
      "Epoch 332, Training Loss: 0.020350880920886993, Test Loss: 0.013380689546465874\n",
      "Epoch 333, Training Loss: 0.011745757423341274, Test Loss: 0.01116256508976221\n",
      "Epoch 334, Training Loss: 0.007468021009117365, Test Loss: 0.019838396459817886\n",
      "Epoch 335, Training Loss: 0.010401297360658646, Test Loss: 0.010388863272964954\n",
      "Epoch 336, Training Loss: 0.015500256791710854, Test Loss: 0.02439718320965767\n",
      "Epoch 337, Training Loss: 0.009851892478764057, Test Loss: 0.017105724662542343\n",
      "Epoch 338, Training Loss: 0.011490880511701107, Test Loss: 0.01522912923246622\n",
      "Epoch 339, Training Loss: 0.01329177524894476, Test Loss: 0.014353093691170216\n",
      "Epoch 340, Training Loss: 0.009257099591195583, Test Loss: 0.019032057374715805\n",
      "Epoch 341, Training Loss: 0.016761865466833115, Test Loss: 0.013929101638495922\n",
      "Epoch 342, Training Loss: 0.01796046644449234, Test Loss: 0.016954269260168076\n",
      "Epoch 343, Training Loss: 0.01493010576814413, Test Loss: 0.01924872025847435\n",
      "Epoch 344, Training Loss: 0.01858452521264553, Test Loss: 0.008486106991767883\n",
      "Epoch 345, Training Loss: 0.022934352979063988, Test Loss: 0.014473934657871723\n",
      "Epoch 346, Training Loss: 0.016407789662480354, Test Loss: 0.02212037332355976\n",
      "Epoch 347, Training Loss: 0.011671074666082859, Test Loss: 0.017270581796765327\n",
      "Epoch 348, Training Loss: 0.010587533004581928, Test Loss: 0.018691418692469597\n",
      "Epoch 349, Training Loss: 0.018907122313976288, Test Loss: 0.015314983204007149\n",
      "Epoch 350, Training Loss: 0.010194745846092701, Test Loss: 0.014333661645650864\n",
      "Epoch 351, Training Loss: 0.011678881011903286, Test Loss: 0.009331349283456802\n",
      "Epoch 352, Training Loss: 0.015577691607177258, Test Loss: 0.013299526646733284\n",
      "Epoch 353, Training Loss: 0.01814635470509529, Test Loss: 0.012809230014681816\n",
      "Epoch 354, Training Loss: 0.018591566011309624, Test Loss: 0.011062239296734333\n",
      "Epoch 355, Training Loss: 0.013383048586547375, Test Loss: 0.022749023512005806\n",
      "Epoch 356, Training Loss: 0.010073762387037277, Test Loss: 0.020804909989237785\n",
      "Epoch 357, Training Loss: 0.014240591786801815, Test Loss: 0.01017822790890932\n",
      "Epoch 358, Training Loss: 0.018736189231276512, Test Loss: 0.021313713863492012\n",
      "Epoch 359, Training Loss: 0.012966527603566647, Test Loss: 0.01855170540511608\n",
      "Epoch 360, Training Loss: 0.007414851803332567, Test Loss: 0.019672192633152008\n",
      "Epoch 361, Training Loss: 0.024130983278155327, Test Loss: 0.020780202001333237\n",
      "Epoch 362, Training Loss: 0.015400439500808716, Test Loss: 0.014214202761650085\n",
      "Epoch 363, Training Loss: 0.014834323897957802, Test Loss: 0.01635107956826687\n",
      "Epoch 364, Training Loss: 0.020929772406816483, Test Loss: 0.01883586123585701\n",
      "Epoch 365, Training Loss: 0.017150120809674263, Test Loss: 0.015743520110845566\n",
      "Epoch 366, Training Loss: 0.005390160251408815, Test Loss: 0.016863087192177773\n",
      "Epoch 367, Training Loss: 0.011006508022546768, Test Loss: 0.0181169044226408\n",
      "Epoch 368, Training Loss: 0.015898671001195908, Test Loss: 0.013710013590753078\n",
      "Epoch 369, Training Loss: 0.016944410279393196, Test Loss: 0.013366207480430603\n",
      "Epoch 370, Training Loss: 0.010905654169619083, Test Loss: 0.014163012616336346\n",
      "Epoch 371, Training Loss: 0.014732461422681808, Test Loss: 0.01406878512352705\n",
      "Epoch 372, Training Loss: 0.014253348112106323, Test Loss: 0.011944870464503765\n",
      "Epoch 373, Training Loss: 0.008770723827183247, Test Loss: 0.017289139330387115\n",
      "Epoch 374, Training Loss: 0.02065201848745346, Test Loss: 0.01288900151848793\n",
      "Epoch 375, Training Loss: 0.015218070708215237, Test Loss: 0.014133093878626823\n",
      "Epoch 376, Training Loss: 0.0124329449608922, Test Loss: 0.020727111026644707\n",
      "Epoch 377, Training Loss: 0.020034078508615494, Test Loss: 0.01644856669008732\n",
      "Epoch 378, Training Loss: 0.014375335536897182, Test Loss: 0.024673812091350555\n",
      "Epoch 379, Training Loss: 0.012986579909920692, Test Loss: 0.012187662534415722\n",
      "Epoch 380, Training Loss: 0.027749842032790184, Test Loss: 0.015817372128367424\n",
      "Epoch 381, Training Loss: 0.005867672152817249, Test Loss: 0.008565995842218399\n",
      "Epoch 382, Training Loss: 0.020602505654096603, Test Loss: 0.01597496308386326\n",
      "Epoch 383, Training Loss: 0.014381811954081059, Test Loss: 0.008402091450989246\n",
      "Epoch 384, Training Loss: 0.011018132790923119, Test Loss: 0.013590172864496708\n",
      "Epoch 385, Training Loss: 0.018998680636286736, Test Loss: 0.012239435687661171\n",
      "Epoch 386, Training Loss: 0.009095682762563229, Test Loss: 0.016064971685409546\n",
      "Epoch 387, Training Loss: 0.022273002192378044, Test Loss: 0.02091252990067005\n",
      "Epoch 388, Training Loss: 0.01770605519413948, Test Loss: 0.011732864193618298\n",
      "Epoch 389, Training Loss: 0.012343745678663254, Test Loss: 0.02114916779100895\n",
      "Epoch 390, Training Loss: 0.012050866149365902, Test Loss: 0.017593836411833763\n",
      "Epoch 391, Training Loss: 0.017955228686332703, Test Loss: 0.020311346277594566\n",
      "Epoch 392, Training Loss: 0.016242660582065582, Test Loss: 0.021831275895237923\n",
      "Epoch 393, Training Loss: 0.009239871054887772, Test Loss: 0.019201762974262238\n",
      "Epoch 394, Training Loss: 0.022868312895298004, Test Loss: 0.017167219892144203\n",
      "Epoch 395, Training Loss: 0.010476743802428246, Test Loss: 0.011508430354297161\n",
      "Epoch 396, Training Loss: 0.01326313242316246, Test Loss: 0.018301887437701225\n",
      "Epoch 397, Training Loss: 0.010360583662986755, Test Loss: 0.019551370292901993\n",
      "Epoch 398, Training Loss: 0.02074335142970085, Test Loss: 0.02218862995505333\n",
      "Epoch 399, Training Loss: 0.0184707660228014, Test Loss: 0.013871011324226856\n"
     ]
    }
   ],
   "source": [
    "train = True\n",
    "if(train == True):\n",
    "    best_loss = 10000\n",
    "    model_train = NetworkModel().to(device)\n",
    "    best_model = model_train.state_dict()\n",
    "    epochs = 400\n",
    "    learning_rate = 10e-5\n",
    "    loss_fn = nn.MSELoss(reduction='mean')\n",
    "    optimizer = torch.optim.Adam(model_train.parameters(), lr=learning_rate)\n",
    "    test_loss = []\n",
    "    train_loss = []\n",
    "    for i in range(epochs):\n",
    "        for X, Y in train_loader:\n",
    "            X, Y = X.to(device), Y.to(device)\n",
    "            Y_pred = model_train(X.float())\n",
    "            loss = loss_fn(Y_pred, Y.float())\n",
    "            optimizer.zero_grad()\n",
    "            loss.backward()\n",
    "            optimizer.step()\n",
    "        train_loss.append(loss.item())\n",
    "        # Test Loss\n",
    "        with torch.no_grad():\n",
    "            for X, Y in test_loader:\n",
    "                X, Y = X.to(device), Y.to(device)\n",
    "                Y_pred = model_train(X.float())\n",
    "                test_loss_fn = loss_fn(Y_pred, Y.float())\n",
    "            print(f'Epoch {i}, Training Loss: {loss.item()}, Test Loss: {test_loss_fn.item()}')\n",
    "            test_loss.append(test_loss_fn.item())\n",
    "            if(test_loss_fn.item() < best_loss):\n",
    "                best_loss = test_loss_fn.item()\n",
    "                best_model = model_train.state_dict()"
   ]
  },
  {
   "cell_type": "code",
   "execution_count": 342,
   "metadata": {},
   "outputs": [
    {
     "data": {
      "image/png": "[encoded data removed]",
      "text/plain": [
       "<Figure size 640x480 with 1 Axes>"
      ]
     },
     "metadata": {},
     "output_type": "display_data"
    }
   ],
   "source": [
    "plt.plot(train_loss[:], label='Training Loss')\n",
    "plt.plot(test_loss[:], label='Test Loss')\n",
    "plt.legend()\n",
    "datestring = datetime.datetime.now().strftime(\"%Y%m%d-%H%M%S\")\n",
    "plt.title(datestring)\n",
    "plt.savefig(f'./train_logs/{datestring}.png')"
   ]
  },
  {
   "cell_type": "code",
   "execution_count": 343,
   "metadata": {},
   "outputs": [],
   "source": [
    "array = []\n",
    "for i in range(len(X_test)):\n",
    "    X_out = model_train(X_test[i].float())\n",
    "    # print(X_out)\n",
    "    Y_out= y_test[i]\n",
    "    # print(Y_out)\n",
    "    array.append((sum((X_out - Y_out)**2)))\n",
    "    # array.append(loss_fn(X_out, Y_out).item())"
   ]
  },
  {
   "cell_type": "code",
   "execution_count": 344,
   "metadata": {},
   "outputs": [],
   "source": [
    "array.sort()"
   ]
  },
  {
   "cell_type": "code",
   "execution_count": 345,
   "metadata": {},
   "outputs": [
    {
     "data": {
      "text/plain": [
       "[tensor(0.0002, dtype=torch.float64, grad_fn=<AddBackward0>),\n",
       " tensor(0.0003, dtype=torch.float64, grad_fn=<AddBackward0>),\n",
       " tensor(0.0003, dtype=torch.float64, grad_fn=<AddBackward0>),\n",
       " tensor(0.0005, dtype=torch.float64, grad_fn=<AddBackward0>),\n",
       " tensor(0.0006, dtype=torch.float64, grad_fn=<AddBackward0>),\n",
       " tensor(0.0007, dtype=torch.float64, grad_fn=<AddBackward0>),\n",
       " tensor(0.0007, dtype=torch.float64, grad_fn=<AddBackward0>),\n",
       " tensor(0.0008, dtype=torch.float64, grad_fn=<AddBackward0>),\n",
       " tensor(0.0012, dtype=torch.float64, grad_fn=<AddBackward0>),\n",
       " tensor(0.0014, dtype=torch.float64, grad_fn=<AddBackward0>),\n",
       " tensor(0.0014, dtype=torch.float64, grad_fn=<AddBackward0>),\n",
       " tensor(0.0015, dtype=torch.float64, grad_fn=<AddBackward0>),\n",
       " tensor(0.0017, dtype=torch.float64, grad_fn=<AddBackward0>),\n",
       " tensor(0.0020, dtype=torch.float64, grad_fn=<AddBackward0>),\n",
       " tensor(0.0021, dtype=torch.float64, grad_fn=<AddBackward0>),\n",
       " tensor(0.0022, dtype=torch.float64, grad_fn=<AddBackward0>),\n",
       " tensor(0.0023, dtype=torch.float64, grad_fn=<AddBackward0>),\n",
       " tensor(0.0024, dtype=torch.float64, grad_fn=<AddBackward0>),\n",
       " tensor(0.0024, dtype=torch.float64, grad_fn=<AddBackward0>),\n",
       " tensor(0.0025, dtype=torch.float64, grad_fn=<AddBackward0>),\n",
       " tensor(0.0026, dtype=torch.float64, grad_fn=<AddBackward0>),\n",
       " tensor(0.0026, dtype=torch.float64, grad_fn=<AddBackward0>),\n",
       " tensor(0.0026, dtype=torch.float64, grad_fn=<AddBackward0>),\n",
       " tensor(0.0026, dtype=torch.float64, grad_fn=<AddBackward0>),\n",
       " tensor(0.0029, dtype=torch.float64, grad_fn=<AddBackward0>),\n",
       " tensor(0.0029, dtype=torch.float64, grad_fn=<AddBackward0>),\n",
       " tensor(0.0029, dtype=torch.float64, grad_fn=<AddBackward0>),\n",
       " tensor(0.0032, dtype=torch.float64, grad_fn=<AddBackward0>),\n",
       " tensor(0.0032, dtype=torch.float64, grad_fn=<AddBackward0>),\n",
       " tensor(0.0034, dtype=torch.float64, grad_fn=<AddBackward0>),\n",
       " tensor(0.0034, dtype=torch.float64, grad_fn=<AddBackward0>),\n",
       " tensor(0.0036, dtype=torch.float64, grad_fn=<AddBackward0>),\n",
       " tensor(0.0037, dtype=torch.float64, grad_fn=<AddBackward0>),\n",
       " tensor(0.0038, dtype=torch.float64, grad_fn=<AddBackward0>),\n",
       " tensor(0.0039, dtype=torch.float64, grad_fn=<AddBackward0>),\n",
       " tensor(0.0040, dtype=torch.float64, grad_fn=<AddBackward0>),\n",
       " tensor(0.0042, dtype=torch.float64, grad_fn=<AddBackward0>),\n",
       " tensor(0.0042, dtype=torch.float64, grad_fn=<AddBackward0>),\n",
       " tensor(0.0043, dtype=torch.float64, grad_fn=<AddBackward0>),\n",
       " tensor(0.0049, dtype=torch.float64, grad_fn=<AddBackward0>),\n",
       " tensor(0.0050, dtype=torch.float64, grad_fn=<AddBackward0>),\n",
       " tensor(0.0052, dtype=torch.float64, grad_fn=<AddBackward0>),\n",
       " tensor(0.0052, dtype=torch.float64, grad_fn=<AddBackward0>),\n",
       " tensor(0.0053, dtype=torch.float64, grad_fn=<AddBackward0>),\n",
       " tensor(0.0053, dtype=torch.float64, grad_fn=<AddBackward0>),\n",
       " tensor(0.0054, dtype=torch.float64, grad_fn=<AddBackward0>),\n",
       " tensor(0.0056, dtype=torch.float64, grad_fn=<AddBackward0>),\n",
       " tensor(0.0057, dtype=torch.float64, grad_fn=<AddBackward0>),\n",
       " tensor(0.0057, dtype=torch.float64, grad_fn=<AddBackward0>),\n",
       " tensor(0.0061, dtype=torch.float64, grad_fn=<AddBackward0>),\n",
       " tensor(0.0061, dtype=torch.float64, grad_fn=<AddBackward0>),\n",
       " tensor(0.0062, dtype=torch.float64, grad_fn=<AddBackward0>),\n",
       " tensor(0.0062, dtype=torch.float64, grad_fn=<AddBackward0>),\n",
       " tensor(0.0062, dtype=torch.float64, grad_fn=<AddBackward0>),\n",
       " tensor(0.0064, dtype=torch.float64, grad_fn=<AddBackward0>),\n",
       " tensor(0.0065, dtype=torch.float64, grad_fn=<AddBackward0>),\n",
       " tensor(0.0066, dtype=torch.float64, grad_fn=<AddBackward0>),\n",
       " tensor(0.0066, dtype=torch.float64, grad_fn=<AddBackward0>),\n",
       " tensor(0.0066, dtype=torch.float64, grad_fn=<AddBackward0>),\n",
       " tensor(0.0068, dtype=torch.float64, grad_fn=<AddBackward0>),\n",
       " tensor(0.0069, dtype=torch.float64, grad_fn=<AddBackward0>),\n",
       " tensor(0.0069, dtype=torch.float64, grad_fn=<AddBackward0>),\n",
       " tensor(0.0070, dtype=torch.float64, grad_fn=<AddBackward0>),\n",
       " tensor(0.0072, dtype=torch.float64, grad_fn=<AddBackward0>),\n",
       " tensor(0.0074, dtype=torch.float64, grad_fn=<AddBackward0>),\n",
       " tensor(0.0077, dtype=torch.float64, grad_fn=<AddBackward0>),\n",
       " tensor(0.0078, dtype=torch.float64, grad_fn=<AddBackward0>),\n",
       " tensor(0.0079, dtype=torch.float64, grad_fn=<AddBackward0>),\n",
       " tensor(0.0079, dtype=torch.float64, grad_fn=<AddBackward0>),\n",
       " tensor(0.0079, dtype=torch.float64, grad_fn=<AddBackward0>),\n",
       " tensor(0.0081, dtype=torch.float64, grad_fn=<AddBackward0>),\n",
       " tensor(0.0086, dtype=torch.float64, grad_fn=<AddBackward0>),\n",
       " tensor(0.0089, dtype=torch.float64, grad_fn=<AddBackward0>),\n",
       " tensor(0.0094, dtype=torch.float64, grad_fn=<AddBackward0>),\n",
       " tensor(0.0096, dtype=torch.float64, grad_fn=<AddBackward0>),\n",
       " tensor(0.0100, dtype=torch.float64, grad_fn=<AddBackward0>),\n",
       " tensor(0.0101, dtype=torch.float64, grad_fn=<AddBackward0>),\n",
       " tensor(0.0116, dtype=torch.float64, grad_fn=<AddBackward0>),\n",
       " tensor(0.0123, dtype=torch.float64, grad_fn=<AddBackward0>),\n",
       " tensor(0.0124, dtype=torch.float64, grad_fn=<AddBackward0>),\n",
       " tensor(0.0127, dtype=torch.float64, grad_fn=<AddBackward0>),\n",
       " tensor(0.0127, dtype=torch.float64, grad_fn=<AddBackward0>),\n",
       " tensor(0.0132, dtype=torch.float64, grad_fn=<AddBackward0>),\n",
       " tensor(0.0134, dtype=torch.float64, grad_fn=<AddBackward0>),\n",
       " tensor(0.0138, dtype=torch.float64, grad_fn=<AddBackward0>),\n",
       " tensor(0.0139, dtype=torch.float64, grad_fn=<AddBackward0>),\n",
       " tensor(0.0148, dtype=torch.float64, grad_fn=<AddBackward0>),\n",
       " tensor(0.0150, dtype=torch.float64, grad_fn=<AddBackward0>),\n",
       " tensor(0.0155, dtype=torch.float64, grad_fn=<AddBackward0>),\n",
       " tensor(0.0155, dtype=torch.float64, grad_fn=<AddBackward0>),\n",
       " tensor(0.0157, dtype=torch.float64, grad_fn=<AddBackward0>),\n",
       " tensor(0.0164, dtype=torch.float64, grad_fn=<AddBackward0>),\n",
       " tensor(0.0166, dtype=torch.float64, grad_fn=<AddBackward0>),\n",
       " tensor(0.0166, dtype=torch.float64, grad_fn=<AddBackward0>),\n",
       " tensor(0.0166, dtype=torch.float64, grad_fn=<AddBackward0>),\n",
       " tensor(0.0167, dtype=torch.float64, grad_fn=<AddBackward0>),\n",
       " tensor(0.0178, dtype=torch.float64, grad_fn=<AddBackward0>),\n",
       " tensor(0.0182, dtype=torch.float64, grad_fn=<AddBackward0>),\n",
       " tensor(0.0185, dtype=torch.float64, grad_fn=<AddBackward0>),\n",
       " tensor(0.0187, dtype=torch.float64, grad_fn=<AddBackward0>),\n",
       " tensor(0.0190, dtype=torch.float64, grad_fn=<AddBackward0>),\n",
       " tensor(0.0190, dtype=torch.float64, grad_fn=<AddBackward0>),\n",
       " tensor(0.0195, dtype=torch.float64, grad_fn=<AddBackward0>),\n",
       " tensor(0.0202, dtype=torch.float64, grad_fn=<AddBackward0>),\n",
       " tensor(0.0213, dtype=torch.float64, grad_fn=<AddBackward0>),\n",
       " tensor(0.0223, dtype=torch.float64, grad_fn=<AddBackward0>),\n",
       " tensor(0.0232, dtype=torch.float64, grad_fn=<AddBackward0>),\n",
       " tensor(0.0232, dtype=torch.float64, grad_fn=<AddBackward0>),\n",
       " tensor(0.0237, dtype=torch.float64, grad_fn=<AddBackward0>),\n",
       " tensor(0.0241, dtype=torch.float64, grad_fn=<AddBackward0>),\n",
       " tensor(0.0246, dtype=torch.float64, grad_fn=<AddBackward0>),\n",
       " tensor(0.0248, dtype=torch.float64, grad_fn=<AddBackward0>),\n",
       " tensor(0.0249, dtype=torch.float64, grad_fn=<AddBackward0>),\n",
       " tensor(0.0255, dtype=torch.float64, grad_fn=<AddBackward0>),\n",
       " tensor(0.0259, dtype=torch.float64, grad_fn=<AddBackward0>),\n",
       " tensor(0.0259, dtype=torch.float64, grad_fn=<AddBackward0>),\n",
       " tensor(0.0261, dtype=torch.float64, grad_fn=<AddBackward0>),\n",
       " tensor(0.0264, dtype=torch.float64, grad_fn=<AddBackward0>),\n",
       " tensor(0.0266, dtype=torch.float64, grad_fn=<AddBackward0>),\n",
       " tensor(0.0267, dtype=torch.float64, grad_fn=<AddBackward0>),\n",
       " tensor(0.0269, dtype=torch.float64, grad_fn=<AddBackward0>),\n",
       " tensor(0.0269, dtype=torch.float64, grad_fn=<AddBackward0>),\n",
       " tensor(0.0275, dtype=torch.float64, grad_fn=<AddBackward0>),\n",
       " tensor(0.0277, dtype=torch.float64, grad_fn=<AddBackward0>),\n",
       " tensor(0.0298, dtype=torch.float64, grad_fn=<AddBackward0>),\n",
       " tensor(0.0298, dtype=torch.float64, grad_fn=<AddBackward0>),\n",
       " tensor(0.0298, dtype=torch.float64, grad_fn=<AddBackward0>),\n",
       " tensor(0.0308, dtype=torch.float64, grad_fn=<AddBackward0>),\n",
       " tensor(0.0311, dtype=torch.float64, grad_fn=<AddBackward0>),\n",
       " tensor(0.0315, dtype=torch.float64, grad_fn=<AddBackward0>),\n",
       " tensor(0.0316, dtype=torch.float64, grad_fn=<AddBackward0>),\n",
       " tensor(0.0321, dtype=torch.float64, grad_fn=<AddBackward0>),\n",
       " tensor(0.0348, dtype=torch.float64, grad_fn=<AddBackward0>),\n",
       " tensor(0.0351, dtype=torch.float64, grad_fn=<AddBackward0>),\n",
       " tensor(0.0356, dtype=torch.float64, grad_fn=<AddBackward0>),\n",
       " tensor(0.0359, dtype=torch.float64, grad_fn=<AddBackward0>),\n",
       " tensor(0.0365, dtype=torch.float64, grad_fn=<AddBackward0>),\n",
       " tensor(0.0368, dtype=torch.float64, grad_fn=<AddBackward0>),\n",
       " tensor(0.0369, dtype=torch.float64, grad_fn=<AddBackward0>),\n",
       " tensor(0.0370, dtype=torch.float64, grad_fn=<AddBackward0>),\n",
       " tensor(0.0373, dtype=torch.float64, grad_fn=<AddBackward0>),\n",
       " tensor(0.0373, dtype=torch.float64, grad_fn=<AddBackward0>),\n",
       " tensor(0.0380, dtype=torch.float64, grad_fn=<AddBackward0>),\n",
       " tensor(0.0385, dtype=torch.float64, grad_fn=<AddBackward0>),\n",
       " tensor(0.0391, dtype=torch.float64, grad_fn=<AddBackward0>),\n",
       " tensor(0.0394, dtype=torch.float64, grad_fn=<AddBackward0>),\n",
       " tensor(0.0395, dtype=torch.float64, grad_fn=<AddBackward0>),\n",
       " tensor(0.0414, dtype=torch.float64, grad_fn=<AddBackward0>),\n",
       " tensor(0.0421, dtype=torch.float64, grad_fn=<AddBackward0>),\n",
       " tensor(0.0421, dtype=torch.float64, grad_fn=<AddBackward0>),\n",
       " tensor(0.0428, dtype=torch.float64, grad_fn=<AddBackward0>),\n",
       " tensor(0.0428, dtype=torch.float64, grad_fn=<AddBackward0>),\n",
       " tensor(0.0431, dtype=torch.float64, grad_fn=<AddBackward0>),\n",
       " tensor(0.0440, dtype=torch.float64, grad_fn=<AddBackward0>),\n",
       " tensor(0.0442, dtype=torch.float64, grad_fn=<AddBackward0>),\n",
       " tensor(0.0448, dtype=torch.float64, grad_fn=<AddBackward0>),\n",
       " tensor(0.0455, dtype=torch.float64, grad_fn=<AddBackward0>),\n",
       " tensor(0.0463, dtype=torch.float64, grad_fn=<AddBackward0>),\n",
       " tensor(0.0478, dtype=torch.float64, grad_fn=<AddBackward0>),\n",
       " tensor(0.0481, dtype=torch.float64, grad_fn=<AddBackward0>),\n",
       " tensor(0.0489, dtype=torch.float64, grad_fn=<AddBackward0>),\n",
       " tensor(0.0490, dtype=torch.float64, grad_fn=<AddBackward0>),\n",
       " tensor(0.0508, dtype=torch.float64, grad_fn=<AddBackward0>),\n",
       " tensor(0.0519, dtype=torch.float64, grad_fn=<AddBackward0>),\n",
       " tensor(0.0526, dtype=torch.float64, grad_fn=<AddBackward0>),\n",
       " tensor(0.0534, dtype=torch.float64, grad_fn=<AddBackward0>),\n",
       " tensor(0.0542, dtype=torch.float64, grad_fn=<AddBackward0>),\n",
       " tensor(0.0545, dtype=torch.float64, grad_fn=<AddBackward0>),\n",
       " tensor(0.0553, dtype=torch.float64, grad_fn=<AddBackward0>),\n",
       " tensor(0.0555, dtype=torch.float64, grad_fn=<AddBackward0>),\n",
       " tensor(0.0562, dtype=torch.float64, grad_fn=<AddBackward0>),\n",
       " tensor(0.0568, dtype=torch.float64, grad_fn=<AddBackward0>),\n",
       " tensor(0.0583, dtype=torch.float64, grad_fn=<AddBackward0>),\n",
       " tensor(0.0584, dtype=torch.float64, grad_fn=<AddBackward0>),\n",
       " tensor(0.0596, dtype=torch.float64, grad_fn=<AddBackward0>),\n",
       " tensor(0.0600, dtype=torch.float64, grad_fn=<AddBackward0>),\n",
       " tensor(0.0603, dtype=torch.float64, grad_fn=<AddBackward0>),\n",
       " tensor(0.0610, dtype=torch.float64, grad_fn=<AddBackward0>),\n",
       " tensor(0.0611, dtype=torch.float64, grad_fn=<AddBackward0>),\n",
       " tensor(0.0623, dtype=torch.float64, grad_fn=<AddBackward0>),\n",
       " tensor(0.0637, dtype=torch.float64, grad_fn=<AddBackward0>),\n",
       " tensor(0.0640, dtype=torch.float64, grad_fn=<AddBackward0>),\n",
       " tensor(0.0640, dtype=torch.float64, grad_fn=<AddBackward0>),\n",
       " tensor(0.0655, dtype=torch.float64, grad_fn=<AddBackward0>),\n",
       " tensor(0.0656, dtype=torch.float64, grad_fn=<AddBackward0>),\n",
       " tensor(0.0661, dtype=torch.float64, grad_fn=<AddBackward0>),\n",
       " tensor(0.0663, dtype=torch.float64, grad_fn=<AddBackward0>),\n",
       " tensor(0.0694, dtype=torch.float64, grad_fn=<AddBackward0>),\n",
       " tensor(0.0703, dtype=torch.float64, grad_fn=<AddBackward0>),\n",
       " tensor(0.0710, dtype=torch.float64, grad_fn=<AddBackward0>),\n",
       " tensor(0.0735, dtype=torch.float64, grad_fn=<AddBackward0>),\n",
       " tensor(0.0743, dtype=torch.float64, grad_fn=<AddBackward0>),\n",
       " tensor(0.0769, dtype=torch.float64, grad_fn=<AddBackward0>),\n",
       " tensor(0.0770, dtype=torch.float64, grad_fn=<AddBackward0>),\n",
       " tensor(0.0773, dtype=torch.float64, grad_fn=<AddBackward0>),\n",
       " tensor(0.0792, dtype=torch.float64, grad_fn=<AddBackward0>),\n",
       " tensor(0.0808, dtype=torch.float64, grad_fn=<AddBackward0>),\n",
       " tensor(0.0813, dtype=torch.float64, grad_fn=<AddBackward0>),\n",
       " tensor(0.0820, dtype=torch.float64, grad_fn=<AddBackward0>),\n",
       " tensor(0.0828, dtype=torch.float64, grad_fn=<AddBackward0>),\n",
       " tensor(0.0996, dtype=torch.float64, grad_fn=<AddBackward0>),\n",
       " tensor(0.1025, dtype=torch.float64, grad_fn=<AddBackward0>),\n",
       " tensor(0.1065, dtype=torch.float64, grad_fn=<AddBackward0>),\n",
       " tensor(0.1152, dtype=torch.float64, grad_fn=<AddBackward0>),\n",
       " tensor(0.1350, dtype=torch.float64, grad_fn=<AddBackward0>),\n",
       " tensor(0.1421, dtype=torch.float64, grad_fn=<AddBackward0>),\n",
       " tensor(0.1648, dtype=torch.float64, grad_fn=<AddBackward0>)]"
      ]
     },
     "execution_count": 345,
     "metadata": {},
     "output_type": "execute_result"
    }
   ],
   "source": [
    "array"
   ]
  },
  {
   "cell_type": "code",
   "execution_count": 316,
   "metadata": {},
   "outputs": [
    {
     "data": {
      "text/plain": [
       "0.5843913555145264"
      ]
     },
     "execution_count": 316,
     "metadata": {},
     "output_type": "execute_result"
    }
   ],
   "source": [
    "test_loss[-1]"
   ]
  },
  {
   "cell_type": "code",
   "execution_count": 317,
   "metadata": {},
   "outputs": [
    {
     "data": {
      "text/plain": [
       "tensor([[-0.0020, -0.0187,  0.0377,  ..., -0.0226, -0.0595, -0.0045],\n",
       "        [ 0.0034, -0.0226,  0.0915,  ...,  0.0093, -0.0150,  0.0231],\n",
       "        [ 0.0226,  0.0108,  0.0977,  ..., -0.1008, -0.1237,  0.0390],\n",
       "        ...,\n",
       "        [-0.0056, -0.0257,  0.0846,  ..., -0.0313,  0.0177,  0.0529],\n",
       "        [ 0.0178,  0.0337,  0.0464,  ..., -0.0081, -0.0666,  0.0211],\n",
       "        [-0.0062,  0.0213,  0.0555,  ..., -0.0422, -0.0054, -0.0326]])"
      ]
     },
     "execution_count": 317,
     "metadata": {},
     "output_type": "execute_result"
    }
   ],
   "source": [
    "X"
   ]
  },
  {
   "cell_type": "code",
   "execution_count": 318,
   "metadata": {},
   "outputs": [
    {
     "data": {
      "text/plain": [
       "0.21584318578243256"
      ]
     },
     "execution_count": 318,
     "metadata": {},
     "output_type": "execute_result"
    }
   ],
   "source": [
    "best_loss"
   ]
  },
  {
   "cell_type": "code",
   "execution_count": 319,
   "metadata": {},
   "outputs": [
    {
     "data": {
      "text/plain": [
       "<All keys matched successfully>"
      ]
     },
     "execution_count": 319,
     "metadata": {},
     "output_type": "execute_result"
    }
   ],
   "source": [
    "new_model = NetworkModel()\n",
    "new_model.load_state_dict(best_model)"
   ]
  },
  {
   "cell_type": "code",
   "execution_count": 320,
   "metadata": {},
   "outputs": [
    {
     "name": "stdout",
     "output_type": "stream",
     "text": [
      "tensor([0.9158, 0.5822], grad_fn=<ViewBackward0>)\n",
      "tensor([0.8320, 0.8100], dtype=torch.float64)\n",
      "tensor(0.0589, dtype=torch.float64, grad_fn=<AddBackward0>)\n"
     ]
    },
    {
     "data": {
      "text/plain": [
       "tensor(0.0589, dtype=torch.float64, grad_fn=<MseLossBackward0>)"
      ]
     },
     "execution_count": 320,
     "metadata": {},
     "output_type": "execute_result"
    }
   ],
   "source": [
    "i = 12\n",
    "X_out = new_model(X_train[i].float())\n",
    "print(X_out)\n",
    "Y_out= y_train[i]\n",
    "print(Y_out)\n",
    "print((sum((X_out - Y_out)**2)))\n",
    "loss_fn(X_out, Y_out)"
   ]
  },
  {
   "cell_type": "code",
   "execution_count": null,
   "metadata": {},
   "outputs": [],
   "source": []
  }
 ],
 "metadata": {
  "kernelspec": {
   "display_name": "dpp",
   "language": "python",
   "name": "python3"
  },
  "language_info": {
   "codemirror_mode": {
    "name": "ipython",
    "version": 3
   },
   "file_extension": ".py",
   "mimetype": "text/x-python",
   "name": "python",
   "nbconvert_exporter": "python",
   "pygments_lexer": "ipython3",
   "version": "3.10.13"
  }
 },
 "nbformat": 4,
 "nbformat_minor": 2
}
