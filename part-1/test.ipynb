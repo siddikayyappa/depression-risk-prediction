{
 "cells": [
  {
   "cell_type": "code",
   "execution_count": 1,
   "metadata": {},
   "outputs": [],
   "source": [
    "import pandas as pd\n",
    "import csv\n",
    "import pickle as pkl\n",
    "import numpy as np\n",
    "from fasttext import FastText\n",
    "import torch\n",
    "from torch.utils.data import Dataset, DataLoader, TensorDataset\n",
    "from torch import nn\n",
    "from sklearn.model_selection import train_test_split\n",
    "import matplotlib.pyplot as plt\n",
    "import datetime\n"
   ]
  },
  {
   "cell_type": "code",
   "execution_count": 2,
   "metadata": {},
   "outputs": [
    {
     "name": "stderr",
     "output_type": "stream",
     "text": [
      "Warning : `load_model` does not return WordVectorModel or SupervisedModel any more, but a `FastText` object which is very similar.\n"
     ]
    }
   ],
   "source": [
    "model = FastText.load_model('cc.en.300.bin')"
   ]
  },
  {
   "cell_type": "code",
   "execution_count": 36,
   "metadata": {},
   "outputs": [],
   "source": [
    "class Embeddings:\n",
    "    def __init__(self, model) -> None:\n",
    "        self.model = model\n",
    "    def get_embeddings(self, words):\n",
    "        return np.array([self.model.get_word_vector(i) for i in words])\n",
    "    "
   ]
  },
  {
   "cell_type": "code",
   "execution_count": 37,
   "metadata": {},
   "outputs": [],
   "source": [
    "tags = pkl.load(open('./tags.pkl', 'rb'))"
   ]
  },
  {
   "cell_type": "code",
   "execution_count": 38,
   "metadata": {},
   "outputs": [],
   "source": [
    "embedding_class = Embeddings(model)\n",
    "ems = embedding_class.get_embeddings(tags[:100])"
   ]
  },
  {
   "cell_type": "code",
   "execution_count": 39,
   "metadata": {},
   "outputs": [],
   "source": [
    "anew_dataset = pd.read_csv('./anew.csv')"
   ]
  },
  {
   "cell_type": "code",
   "execution_count": 102,
   "metadata": {},
   "outputs": [],
   "source": [
    "anew_dict= dict()\n",
    "words = anew_dataset['term']\n",
    "valence_ratings = anew_dataset['pleasure']\n",
    "arousal_ratings = anew_dataset['arousal']\n",
    "word_embeddings = embedding_class.get_embeddings(words)\n",
    "word_embedding_dict = dict(zip(words, word_embeddings))\n",
    "for i in range(len(words)):\n",
    "    anew_dict[words[i]] = [valence_ratings[i], arousal_ratings[i]]"
   ]
  },
  {
   "cell_type": "code",
   "execution_count": 116,
   "metadata": {},
   "outputs": [],
   "source": [
    "X = word_embeddings\n",
    "Y = np.array([anew_dict[i] for i in words])"
   ]
  },
  {
   "cell_type": "code",
   "execution_count": 117,
   "metadata": {},
   "outputs": [],
   "source": [
    "X = X - X.mean(axis=0)\n",
    "X = X / X.std(axis=0)"
   ]
  },
  {
   "cell_type": "code",
   "execution_count": 118,
   "metadata": {},
   "outputs": [],
   "source": [
    "\n",
    "Y = (Y - Y.mean(axis =0))/Y.var(axis = 0)\n",
    "# SCaling the data -- large loss issues. "
   ]
  },
  {
   "cell_type": "code",
   "execution_count": null,
   "metadata": {},
   "outputs": [],
   "source": []
  },
  {
   "cell_type": "code",
   "execution_count": null,
   "metadata": {},
   "outputs": [],
   "source": []
  },
  {
   "cell_type": "code",
   "execution_count": null,
   "metadata": {},
   "outputs": [],
   "source": []
  },
  {
   "cell_type": "code",
   "execution_count": 119,
   "metadata": {},
   "outputs": [],
   "source": [
    "pkl.dump(X, open('X.pkl', 'wb'))\n",
    "pkl.dump(Y, open('Y.pkl', 'wb'))\n"
   ]
  },
  {
   "cell_type": "code",
   "execution_count": 120,
   "metadata": {},
   "outputs": [],
   "source": [
    "X_train, X_test, y_train, y_test = train_test_split(X, Y, test_size=0.2, random_state=42)"
   ]
  },
  {
   "cell_type": "code",
   "execution_count": 121,
   "metadata": {},
   "outputs": [],
   "source": [
    "X_train = torch.tensor(X_train)\n",
    "X_test = torch.tensor(X_test)\n",
    "y_train = torch.tensor(y_train)\n",
    "y_test = torch.tensor(y_test)\n",
    "test_dataset = TensorDataset(X_test, y_test)\n",
    "train_dataset = TensorDataset(X_train, y_train)\n",
    "train_loader = DataLoader(train_dataset, batch_size=16, shuffle=True)\n",
    "test_loader = DataLoader(test_dataset, batch_size=16, shuffle=True)"
   ]
  },
  {
   "cell_type": "code",
   "execution_count": 122,
   "metadata": {},
   "outputs": [],
   "source": [
    "device = (\n",
    "    \"cuda\"\n",
    "    if torch.cuda.is_available()\n",
    "    else \"cpu\"\n",
    ")"
   ]
  },
  {
   "cell_type": "code",
   "execution_count": 123,
   "metadata": {},
   "outputs": [
    {
     "data": {
      "text/plain": [
       "'cpu'"
      ]
     },
     "execution_count": 123,
     "metadata": {},
     "output_type": "execute_result"
    }
   ],
   "source": [
    "device"
   ]
  },
  {
   "cell_type": "code",
   "execution_count": 124,
   "metadata": {},
   "outputs": [],
   "source": [
    "class NetworkModel(nn.Module):\n",
    "    def __init__(self) -> None:\n",
    "        super().__init__()\n",
    "        self.input = nn.Linear(300, 150)\n",
    "        self.linear_stack = nn.Sequential(\n",
    "            nn.ReLU(),\n",
    "            nn.Linear(150, 100),\n",
    "            nn.Dropout(0.3),\n",
    "            nn.ReLU(),\n",
    "            nn.Linear(100, 50),\n",
    "            nn.Dropout(0.3),\n",
    "            nn.ReLU(),\n",
    "            nn.Linear(50, 25),\n",
    "            nn.Dropout(0.3),\n",
    "            nn.ReLU(),\n",
    "            nn.Linear(25, 10),\n",
    "            nn.Dropout(0.3),\n",
    "            nn.ReLU(),\n",
    "            nn.Linear(10, 5),\n",
    "            nn.Dropout(0.3),\n",
    "            nn.ReLU(),\n",
    "        )\n",
    "        self.output = nn.Linear(5, 2)\n",
    "\n",
    "    def forward(self, x):\n",
    "        x = self.input(x)\n",
    "        x = self.linear_stack(x)\n",
    "        x = self.output(x)\n",
    "        return x\n",
    "\n"
   ]
  },
  {
   "cell_type": "code",
   "execution_count": 125,
   "metadata": {},
   "outputs": [
    {
     "name": "stdout",
     "output_type": "stream",
     "text": [
      "Epoch 0, Training Loss: 0.1290062516927719, Test Loss: 0.13710227608680725\n",
      "Epoch 1, Training Loss: 0.10089712589979172, Test Loss: 0.11155843734741211\n",
      "Epoch 2, Training Loss: 0.07362452149391174, Test Loss: 0.07605988532304764\n",
      "Epoch 3, Training Loss: 0.05441739410161972, Test Loss: 0.07027433812618256\n",
      "Epoch 4, Training Loss: 0.05322641134262085, Test Loss: 0.04640526324510574\n",
      "Epoch 5, Training Loss: 0.05381857231259346, Test Loss: 0.06877747923135757\n",
      "Epoch 6, Training Loss: 0.0477137416601181, Test Loss: 0.07220857590436935\n",
      "Epoch 7, Training Loss: 0.03326361998915672, Test Loss: 0.04868112504482269\n",
      "Epoch 8, Training Loss: 0.04897337779402733, Test Loss: 0.02619210258126259\n",
      "Epoch 9, Training Loss: 0.06051981821656227, Test Loss: 0.04445532709360123\n",
      "Epoch 10, Training Loss: 0.056100402027368546, Test Loss: 0.029059890657663345\n",
      "Epoch 11, Training Loss: 0.03151316195726395, Test Loss: 0.05752655118703842\n",
      "Epoch 12, Training Loss: 0.03890936076641083, Test Loss: 0.03596450760960579\n",
      "Epoch 13, Training Loss: 0.0521259643137455, Test Loss: 0.03309864178299904\n",
      "Epoch 14, Training Loss: 0.029935987666249275, Test Loss: 0.04334857314825058\n",
      "Epoch 15, Training Loss: 0.06492424011230469, Test Loss: 0.03618251159787178\n",
      "Epoch 16, Training Loss: 0.03627670183777809, Test Loss: 0.02262165956199169\n",
      "Epoch 17, Training Loss: 0.03853115811944008, Test Loss: 0.019589127972722054\n",
      "Epoch 18, Training Loss: 0.03497149795293808, Test Loss: 0.010137072764337063\n",
      "Epoch 19, Training Loss: 0.029472164809703827, Test Loss: 0.023807426914572716\n",
      "Epoch 20, Training Loss: 0.016907071694731712, Test Loss: 0.03234877809882164\n",
      "Epoch 21, Training Loss: 0.023835528641939163, Test Loss: 0.0280639436095953\n",
      "Epoch 22, Training Loss: 0.02958007901906967, Test Loss: 0.01990414224565029\n",
      "Epoch 23, Training Loss: 0.016543176025152206, Test Loss: 0.02944851480424404\n",
      "Epoch 24, Training Loss: 0.024436892941594124, Test Loss: 0.030733555555343628\n",
      "Epoch 25, Training Loss: 0.022929145023226738, Test Loss: 0.03445696458220482\n",
      "Epoch 26, Training Loss: 0.011978468857705593, Test Loss: 0.023070750758051872\n",
      "Epoch 27, Training Loss: 0.0165500920265913, Test Loss: 0.02651405707001686\n",
      "Epoch 28, Training Loss: 0.024741200730204582, Test Loss: 0.01787959225475788\n",
      "Epoch 29, Training Loss: 0.023982394486665726, Test Loss: 0.015022650361061096\n",
      "Epoch 30, Training Loss: 0.012539733201265335, Test Loss: 0.00796307809650898\n",
      "Epoch 31, Training Loss: 0.011834162287414074, Test Loss: 0.011756743304431438\n",
      "Epoch 32, Training Loss: 0.026026936247944832, Test Loss: 0.017781315371394157\n",
      "Epoch 33, Training Loss: 0.012969011440873146, Test Loss: 0.01425774022936821\n",
      "Epoch 34, Training Loss: 0.010257910937070847, Test Loss: 0.02104378677904606\n",
      "Epoch 35, Training Loss: 0.018328802660107613, Test Loss: 0.01454512495547533\n",
      "Epoch 36, Training Loss: 0.023330867290496826, Test Loss: 0.021175909787416458\n",
      "Epoch 37, Training Loss: 0.010188058950006962, Test Loss: 0.0197332501411438\n",
      "Epoch 38, Training Loss: 0.013804975897073746, Test Loss: 0.012332867830991745\n",
      "Epoch 39, Training Loss: 0.01191680133342743, Test Loss: 0.012285630218684673\n",
      "Epoch 40, Training Loss: 0.016998296603560448, Test Loss: 0.0121017349883914\n",
      "Epoch 41, Training Loss: 0.012939631938934326, Test Loss: 0.010006499476730824\n",
      "Epoch 42, Training Loss: 0.008906965143978596, Test Loss: 0.010191279463469982\n",
      "Epoch 43, Training Loss: 0.009773836471140385, Test Loss: 0.008760481141507626\n",
      "Epoch 44, Training Loss: 0.005613330285996199, Test Loss: 0.00828463677316904\n",
      "Epoch 45, Training Loss: 0.011825856752693653, Test Loss: 0.007716539315879345\n",
      "Epoch 46, Training Loss: 0.009009704925119877, Test Loss: 0.006264197640120983\n",
      "Epoch 47, Training Loss: 0.007740989793092012, Test Loss: 0.010312740691006184\n",
      "Epoch 48, Training Loss: 0.014050105586647987, Test Loss: 0.013500235043466091\n",
      "Epoch 49, Training Loss: 0.004967498127371073, Test Loss: 0.01785101555287838\n",
      "Epoch 50, Training Loss: 0.0075310696847736835, Test Loss: 0.008720334619283676\n",
      "Epoch 51, Training Loss: 0.007646976504474878, Test Loss: 0.010220494121313095\n",
      "Epoch 52, Training Loss: 0.007114166393876076, Test Loss: 0.0105297164991498\n",
      "Epoch 53, Training Loss: 0.005218215752393007, Test Loss: 0.008862242102622986\n",
      "Epoch 54, Training Loss: 0.0076313684694468975, Test Loss: 0.006875402759760618\n",
      "Epoch 55, Training Loss: 0.007117291912436485, Test Loss: 0.010369837284088135\n",
      "Epoch 56, Training Loss: 0.009798013605177402, Test Loss: 0.012631241232156754\n",
      "Epoch 57, Training Loss: 0.004815772175788879, Test Loss: 0.008735911920666695\n",
      "Epoch 58, Training Loss: 0.00371034094132483, Test Loss: 0.009818138554692268\n",
      "Epoch 59, Training Loss: 0.012604313902556896, Test Loss: 0.006330082193017006\n",
      "Epoch 60, Training Loss: 0.005645698867738247, Test Loss: 0.007085863035172224\n",
      "Epoch 61, Training Loss: 0.009994527325034142, Test Loss: 0.007579497527331114\n",
      "Epoch 62, Training Loss: 0.004743520636111498, Test Loss: 0.006943440996110439\n",
      "Epoch 63, Training Loss: 0.0052643162198364735, Test Loss: 0.007442918606102467\n",
      "Epoch 64, Training Loss: 0.007637363858520985, Test Loss: 0.004618082661181688\n",
      "Epoch 65, Training Loss: 0.0047772470861673355, Test Loss: 0.007912794128060341\n",
      "Epoch 66, Training Loss: 0.004896384198218584, Test Loss: 0.005499335937201977\n",
      "Epoch 67, Training Loss: 0.007974008098244667, Test Loss: 0.003974581602960825\n",
      "Epoch 68, Training Loss: 0.005675299093127251, Test Loss: 0.006856983993202448\n",
      "Epoch 69, Training Loss: 0.004563240334391594, Test Loss: 0.006331078242510557\n",
      "Epoch 70, Training Loss: 0.004015334416180849, Test Loss: 0.004666300490498543\n",
      "Epoch 71, Training Loss: 0.004262677859514952, Test Loss: 0.006304404232650995\n",
      "Epoch 72, Training Loss: 0.005296721588820219, Test Loss: 0.005829141940921545\n",
      "Epoch 73, Training Loss: 0.0046737175434827805, Test Loss: 0.0068994066677987576\n",
      "Epoch 74, Training Loss: 0.005198928061872721, Test Loss: 0.007210767362266779\n",
      "Epoch 75, Training Loss: 0.005178406368941069, Test Loss: 0.003828222630545497\n",
      "Epoch 76, Training Loss: 0.005819207523018122, Test Loss: 0.005530344322323799\n",
      "Epoch 77, Training Loss: 0.005805462133139372, Test Loss: 0.0038068434223532677\n",
      "Epoch 78, Training Loss: 0.0037130462005734444, Test Loss: 0.007330501917749643\n",
      "Epoch 79, Training Loss: 0.004678491503000259, Test Loss: 0.005886632017791271\n",
      "Epoch 80, Training Loss: 0.004638785496354103, Test Loss: 0.003987425472587347\n",
      "Epoch 81, Training Loss: 0.005257723852992058, Test Loss: 0.003089302219450474\n",
      "Epoch 82, Training Loss: 0.005544617306441069, Test Loss: 0.0037456408608704805\n",
      "Epoch 83, Training Loss: 0.0058398679830133915, Test Loss: 0.004177953582257032\n",
      "Epoch 84, Training Loss: 0.0029697625432163477, Test Loss: 0.005183242727071047\n",
      "Epoch 85, Training Loss: 0.005047584418207407, Test Loss: 0.005311662331223488\n",
      "Epoch 86, Training Loss: 0.003857337636873126, Test Loss: 0.0034419770818203688\n",
      "Epoch 87, Training Loss: 0.004603229928761721, Test Loss: 0.003427949035540223\n",
      "Epoch 88, Training Loss: 0.0059354896657168865, Test Loss: 0.002552839694544673\n",
      "Epoch 89, Training Loss: 0.005237325560301542, Test Loss: 0.0033291832078248262\n",
      "Epoch 90, Training Loss: 0.003358825808390975, Test Loss: 0.004532804246991873\n",
      "Epoch 91, Training Loss: 0.002664485713467002, Test Loss: 0.004093713592737913\n",
      "Epoch 92, Training Loss: 0.002859640633687377, Test Loss: 0.004973744973540306\n",
      "Epoch 93, Training Loss: 0.003380665322765708, Test Loss: 0.0048753912560641766\n",
      "Epoch 94, Training Loss: 0.004284969065338373, Test Loss: 0.003929521888494492\n",
      "Epoch 95, Training Loss: 0.0019258898682892323, Test Loss: 0.008381664752960205\n",
      "Epoch 96, Training Loss: 0.0031268163584172726, Test Loss: 0.003977666143327951\n",
      "Epoch 97, Training Loss: 0.005318209994584322, Test Loss: 0.0034505652729421854\n",
      "Epoch 98, Training Loss: 0.004242090508341789, Test Loss: 0.004608205519616604\n",
      "Epoch 99, Training Loss: 0.002840022323653102, Test Loss: 0.002415251452475786\n",
      "Epoch 100, Training Loss: 0.0025847749784588814, Test Loss: 0.002502407180145383\n",
      "Epoch 101, Training Loss: 0.003157256403937936, Test Loss: 0.003976414445787668\n",
      "Epoch 102, Training Loss: 0.0037526236847043037, Test Loss: 0.0026824651286005974\n",
      "Epoch 103, Training Loss: 0.0028381329029798508, Test Loss: 0.0042305439710617065\n",
      "Epoch 104, Training Loss: 0.0015601295745000243, Test Loss: 0.0043647801503539085\n",
      "Epoch 105, Training Loss: 0.0021664833184331656, Test Loss: 0.0029629082418978214\n",
      "Epoch 106, Training Loss: 0.002199404174461961, Test Loss: 0.0038995440118014812\n",
      "Epoch 107, Training Loss: 0.0031610100995749235, Test Loss: 0.005465067923069\n",
      "Epoch 108, Training Loss: 0.003596673719584942, Test Loss: 0.0024334811605513096\n",
      "Epoch 109, Training Loss: 0.007072083186358213, Test Loss: 0.0056536258198320866\n",
      "Epoch 110, Training Loss: 0.002538781613111496, Test Loss: 0.004611088428646326\n",
      "Epoch 111, Training Loss: 0.004391049966216087, Test Loss: 0.006096548866480589\n",
      "Epoch 112, Training Loss: 0.004210098180919886, Test Loss: 0.003502186620607972\n",
      "Epoch 113, Training Loss: 0.001333538442850113, Test Loss: 0.0033492809161543846\n",
      "Epoch 114, Training Loss: 0.002255959203466773, Test Loss: 0.0025874983984977007\n",
      "Epoch 115, Training Loss: 0.0014618810964748263, Test Loss: 0.0021049235947430134\n",
      "Epoch 116, Training Loss: 0.0026184692978858948, Test Loss: 0.0044268229976296425\n",
      "Epoch 117, Training Loss: 0.002857071114704013, Test Loss: 0.004944026004523039\n",
      "Epoch 118, Training Loss: 0.00279764411970973, Test Loss: 0.0033359965309500694\n",
      "Epoch 119, Training Loss: 0.002615399193018675, Test Loss: 0.002301607048138976\n",
      "Epoch 120, Training Loss: 0.0017279927851632237, Test Loss: 0.00274172006174922\n",
      "Epoch 121, Training Loss: 0.0033789558801800013, Test Loss: 0.0033542329911142588\n",
      "Epoch 122, Training Loss: 0.0041606309823691845, Test Loss: 0.004446478094905615\n",
      "Epoch 123, Training Loss: 0.0035683377645909786, Test Loss: 0.0040864464826881886\n",
      "Epoch 124, Training Loss: 0.002670708578079939, Test Loss: 0.003906313329935074\n",
      "Epoch 125, Training Loss: 0.002145773032680154, Test Loss: 0.0015159540344029665\n",
      "Epoch 126, Training Loss: 0.00247662840411067, Test Loss: 0.003060392802581191\n",
      "Epoch 127, Training Loss: 0.002150975400581956, Test Loss: 0.001989575568586588\n",
      "Epoch 128, Training Loss: 0.001483576837927103, Test Loss: 0.004294097889214754\n",
      "Epoch 129, Training Loss: 0.0036490217316895723, Test Loss: 0.004541545175015926\n",
      "Epoch 130, Training Loss: 0.0028977401088923216, Test Loss: 0.0029048228170722723\n",
      "Epoch 131, Training Loss: 0.001457925420254469, Test Loss: 0.002063251566141844\n",
      "Epoch 132, Training Loss: 0.0016404236666858196, Test Loss: 0.004869746509939432\n",
      "Epoch 133, Training Loss: 0.0015764306299388409, Test Loss: 0.003908569924533367\n",
      "Epoch 134, Training Loss: 0.003311845473945141, Test Loss: 0.0028451995458453894\n",
      "Epoch 135, Training Loss: 0.005566977430135012, Test Loss: 0.0031857206486165524\n",
      "Epoch 136, Training Loss: 0.0030522197484970093, Test Loss: 0.004502811003476381\n",
      "Epoch 137, Training Loss: 0.004374200943857431, Test Loss: 0.004559935536235571\n",
      "Epoch 138, Training Loss: 0.0018759426893666387, Test Loss: 0.0025564096868038177\n",
      "Epoch 139, Training Loss: 0.0013581037055701017, Test Loss: 0.0044653890654444695\n",
      "Epoch 140, Training Loss: 0.0032738775480538607, Test Loss: 0.0017741285264492035\n",
      "Epoch 141, Training Loss: 0.0016487006796523929, Test Loss: 0.005858217366039753\n",
      "Epoch 142, Training Loss: 0.00104211934376508, Test Loss: 0.003313301596790552\n",
      "Epoch 143, Training Loss: 0.001791235408745706, Test Loss: 0.004900917410850525\n",
      "Epoch 144, Training Loss: 0.0020450137089937925, Test Loss: 0.003098919289186597\n",
      "Epoch 145, Training Loss: 0.0021865293383598328, Test Loss: 0.002909132046625018\n",
      "Epoch 146, Training Loss: 0.0022384931799024343, Test Loss: 0.004289357457309961\n",
      "Epoch 147, Training Loss: 0.0016025914810597897, Test Loss: 0.0029003790114074945\n",
      "Epoch 148, Training Loss: 0.0026021976955235004, Test Loss: 0.00499487342312932\n",
      "Epoch 149, Training Loss: 0.0016983001260086894, Test Loss: 0.0015329092275351286\n",
      "Epoch 150, Training Loss: 0.00188646768219769, Test Loss: 0.0030534605029970407\n",
      "Epoch 151, Training Loss: 0.0020126996096223593, Test Loss: 0.004008489195257425\n",
      "Epoch 152, Training Loss: 0.002390447771176696, Test Loss: 0.0033072347287088633\n",
      "Epoch 153, Training Loss: 0.002428465522825718, Test Loss: 0.0033207370433956385\n",
      "Epoch 154, Training Loss: 0.0029372302815318108, Test Loss: 0.0035262899473309517\n",
      "Epoch 155, Training Loss: 0.0016654786886647344, Test Loss: 0.0029932118486613035\n",
      "Epoch 156, Training Loss: 0.0011171899968758225, Test Loss: 0.0024199294857680798\n",
      "Epoch 157, Training Loss: 0.0032419105991721153, Test Loss: 0.0023677507415413857\n",
      "Epoch 158, Training Loss: 0.0016670958139002323, Test Loss: 0.0031481976620852947\n",
      "Epoch 159, Training Loss: 0.0030650754924863577, Test Loss: 0.0033347024582326412\n",
      "Epoch 160, Training Loss: 0.001849547028541565, Test Loss: 0.002187055069953203\n",
      "Epoch 161, Training Loss: 0.0024906257167458534, Test Loss: 0.004137687385082245\n",
      "Epoch 162, Training Loss: 0.002339340280741453, Test Loss: 0.0026607983745634556\n",
      "Epoch 163, Training Loss: 0.0024507620837539434, Test Loss: 0.00545923225581646\n",
      "Epoch 164, Training Loss: 0.0034533634316176176, Test Loss: 0.004678128752857447\n",
      "Epoch 165, Training Loss: 0.0013933181762695312, Test Loss: 0.0027924091555178165\n",
      "Epoch 166, Training Loss: 0.0024970867671072483, Test Loss: 0.002447335282340646\n",
      "Epoch 167, Training Loss: 0.0009889848297461867, Test Loss: 0.003076530061662197\n",
      "Epoch 168, Training Loss: 0.0030205941293388605, Test Loss: 0.0024841378908604383\n",
      "Epoch 169, Training Loss: 0.001559751108288765, Test Loss: 0.00360747124068439\n",
      "Epoch 170, Training Loss: 0.0012103747576475143, Test Loss: 0.0022418175358325243\n",
      "Epoch 171, Training Loss: 0.0011902551632374525, Test Loss: 0.003435651073232293\n",
      "Epoch 172, Training Loss: 0.0019825338385999203, Test Loss: 0.00273837405256927\n",
      "Epoch 173, Training Loss: 0.0021566790528595448, Test Loss: 0.0014370933640748262\n",
      "Epoch 174, Training Loss: 0.0036370130255818367, Test Loss: 0.002804841147735715\n",
      "Epoch 175, Training Loss: 0.0011408684076741338, Test Loss: 0.0032270499505102634\n",
      "Epoch 176, Training Loss: 0.0024544610641896725, Test Loss: 0.003602792974561453\n",
      "Epoch 177, Training Loss: 0.0023878999054431915, Test Loss: 0.002497249748557806\n",
      "Epoch 178, Training Loss: 0.004801830742508173, Test Loss: 0.003737863153219223\n",
      "Epoch 179, Training Loss: 0.00195497483946383, Test Loss: 0.003525218926370144\n",
      "Epoch 180, Training Loss: 0.0019616836216300726, Test Loss: 0.0026665469631552696\n",
      "Epoch 181, Training Loss: 0.001238879282027483, Test Loss: 0.004420214798301458\n",
      "Epoch 182, Training Loss: 0.0018264043610543013, Test Loss: 0.003560093929991126\n",
      "Epoch 183, Training Loss: 0.0021500205621123314, Test Loss: 0.0027853925712406635\n",
      "Epoch 184, Training Loss: 0.001974651589989662, Test Loss: 0.003784480271860957\n",
      "Epoch 185, Training Loss: 0.003073509782552719, Test Loss: 0.0018211582209914923\n",
      "Epoch 186, Training Loss: 0.001337570371106267, Test Loss: 0.002292945981025696\n",
      "Epoch 187, Training Loss: 0.0016265249578282237, Test Loss: 0.0018103455659002066\n",
      "Epoch 188, Training Loss: 0.001456431346014142, Test Loss: 0.0038036846090108156\n",
      "Epoch 189, Training Loss: 0.0015675631584599614, Test Loss: 0.0036159332375973463\n",
      "Epoch 190, Training Loss: 0.0013378997100517154, Test Loss: 0.0040293969213962555\n",
      "Epoch 191, Training Loss: 0.0047832150012254715, Test Loss: 0.0027964049950242043\n",
      "Epoch 192, Training Loss: 0.002422010526061058, Test Loss: 0.002985795494168997\n",
      "Epoch 193, Training Loss: 0.0020011430606245995, Test Loss: 0.004235654138028622\n",
      "Epoch 194, Training Loss: 0.003201730316504836, Test Loss: 0.003999965265393257\n",
      "Epoch 195, Training Loss: 0.0026011818554252386, Test Loss: 0.0026716873981058598\n",
      "Epoch 196, Training Loss: 0.0015859890263527632, Test Loss: 0.0035260736476629972\n",
      "Epoch 197, Training Loss: 0.002362663857638836, Test Loss: 0.002776842098683119\n",
      "Epoch 198, Training Loss: 0.0015144135104492307, Test Loss: 0.00443681888282299\n",
      "Epoch 199, Training Loss: 0.0013909825356677175, Test Loss: 0.0031415889970958233\n"
     ]
    }
   ],
   "source": [
    "train = True\n",
    "if(train == True):\n",
    "    model_train = NetworkModel().to(device)\n",
    "    epochs = 200\n",
    "    learning_rate = 16e-5\n",
    "    loss_fn = nn.MSELoss()\n",
    "    optimizer = torch.optim.Adam(model_train.parameters(), lr=learning_rate)\n",
    "    test_loss = []\n",
    "    train_loss = []\n",
    "    for i in range(epochs):\n",
    "        for X, Y in train_loader:\n",
    "            X, Y = X.to(device), Y.to(device)\n",
    "            Y_pred = model_train(X.float())\n",
    "            loss = loss_fn(Y_pred, Y.float())\n",
    "            optimizer.zero_grad()\n",
    "            loss.backward()\n",
    "            optimizer.step()\n",
    "        train_loss.append(loss.item())\n",
    "        # Test Loss\n",
    "        with torch.no_grad():\n",
    "            for X, Y in test_loader:\n",
    "                X, Y = X.to(device), Y.to(device)\n",
    "                Y_pred = model_train(X.float())\n",
    "                test_loss_fn = loss_fn(Y_pred, Y.float())\n",
    "            print(f'Epoch {i}, Training Loss: {loss.item()}, Test Loss: {test_loss_fn.item()}')\n",
    "            test_loss.append(test_loss_fn.item())"
   ]
  },
  {
   "cell_type": "code",
   "execution_count": 126,
   "metadata": {},
   "outputs": [
    {
     "data": {
      "image/png": "[encoded data removed]",
      "text/plain": [
       "<Figure size 640x480 with 1 Axes>"
      ]
     },
     "metadata": {},
     "output_type": "display_data"
    }
   ],
   "source": [
    "plt.plot(train_loss[:], label='Training Loss')\n",
    "plt.plot(test_loss[:], label='Test Loss')\n",
    "plt.legend()\n",
    "datestring = datetime.datetime.now().strftime(\"%Y%m%d-%H%M%S\")\n",
    "plt.title(datestring)\n",
    "plt.savefig(f'./train_logs/{datestring}.png')"
   ]
  },
  {
   "cell_type": "code",
   "execution_count": null,
   "metadata": {},
   "outputs": [],
   "source": []
  }
 ],
 "metadata": {
  "kernelspec": {
   "display_name": "dpp",
   "language": "python",
   "name": "python3"
  },
  "language_info": {
   "codemirror_mode": {
    "name": "ipython",
    "version": 3
   },
   "file_extension": ".py",
   "mimetype": "text/x-python",
   "name": "python",
   "nbconvert_exporter": "python",
   "pygments_lexer": "ipython3",
   "version": "3.10.13"
  }
 },
 "nbformat": 4,
 "nbformat_minor": 2
}
